{
 "cells": [
  {
   "cell_type": "code",
   "execution_count": 265,
   "metadata": {
    "collapsed": true
   },
   "outputs": [],
   "source": [
    "import pandas as pd \n",
    "import numpy as np\n",
    "import re\n",
    "from datetime import datetime\n",
    "from sklearn.model_selection import train_test_split\n",
    "from sklearn import datasets\n",
    "\n",
    "datapath='/home/yxr/文档/dataset/ml-100k/'"
   ]
  },
  {
   "cell_type": "code",
   "execution_count": 209,
   "metadata": {
    "collapsed": true
   },
   "outputs": [],
   "source": [
    "names=\"movie id | movie title | release date | video release date |IMDb URL | unknown | Action | Adventure | Animation |Children's | Comedy | Crime | Documentary | Drama | Fantasy |Film-Noir | Horror | Musical | Mystery | Romance | Sci-Fi |Thriller | War | Western |\"\n",
    "names=names.split('|')\n",
    "names=[x.strip().replace(' ','_') for x in names]\n",
    "names.remove('')\n",
    "movieData=pd.read_table(datapath+'u.item',header=None,sep='|',names=names)\n",
    "# movieData['age']=movieData['title'].map(lambda x: re.findall(r'[^()]+',movieData.iloc[0,1])[1])\n",
    "\n",
    "modeValue=movieData['release_date'].mode()[0]\n",
    "\n",
    "movieData['release_date'].fillna(modeValue,inplace=True)\n",
    "\n",
    "movieData['release_year']=movieData['release_date'].map(lambda x : datetime.strptime(x,'%d-%b-%Y').year)\n",
    "\n",
    "movieFeat=movieData.drop(['movie_title','release_date','video_release_date','IMDb_URL'],axis=1)\n",
    "movieFeat[:5]"
   ]
  },
  {
   "cell_type": "code",
   "execution_count": 76,
   "metadata": {},
   "outputs": [
    {
     "data": {
      "text/html": [
       "<div>\n",
       "<style>\n",
       "    .dataframe thead tr:only-child th {\n",
       "        text-align: right;\n",
       "    }\n",
       "\n",
       "    .dataframe thead th {\n",
       "        text-align: left;\n",
       "    }\n",
       "\n",
       "    .dataframe tbody tr th {\n",
       "        vertical-align: top;\n",
       "    }\n",
       "</style>\n",
       "<table border=\"1\" class=\"dataframe\">\n",
       "  <thead>\n",
       "    <tr style=\"text-align: right;\">\n",
       "      <th></th>\n",
       "      <th>movieId</th>\n",
       "      <th>(no genres listed)</th>\n",
       "      <th>Action</th>\n",
       "      <th>Adventure</th>\n",
       "      <th>Animation</th>\n",
       "      <th>Children</th>\n",
       "      <th>Comedy</th>\n",
       "      <th>Crime</th>\n",
       "      <th>Documentary</th>\n",
       "      <th>Drama</th>\n",
       "      <th>...</th>\n",
       "      <th>Film-Noir</th>\n",
       "      <th>Horror</th>\n",
       "      <th>IMAX</th>\n",
       "      <th>Musical</th>\n",
       "      <th>Mystery</th>\n",
       "      <th>Romance</th>\n",
       "      <th>Sci-Fi</th>\n",
       "      <th>Thriller</th>\n",
       "      <th>War</th>\n",
       "      <th>Western</th>\n",
       "    </tr>\n",
       "  </thead>\n",
       "  <tbody>\n",
       "    <tr>\n",
       "      <th>0</th>\n",
       "      <td>1</td>\n",
       "      <td>0.0</td>\n",
       "      <td>0.0</td>\n",
       "      <td>1.0</td>\n",
       "      <td>1.0</td>\n",
       "      <td>1.0</td>\n",
       "      <td>1.0</td>\n",
       "      <td>0.0</td>\n",
       "      <td>0.0</td>\n",
       "      <td>0.0</td>\n",
       "      <td>...</td>\n",
       "      <td>0.0</td>\n",
       "      <td>0.0</td>\n",
       "      <td>0.0</td>\n",
       "      <td>0.0</td>\n",
       "      <td>0.0</td>\n",
       "      <td>0.0</td>\n",
       "      <td>0.0</td>\n",
       "      <td>0.0</td>\n",
       "      <td>0.0</td>\n",
       "      <td>0.0</td>\n",
       "    </tr>\n",
       "    <tr>\n",
       "      <th>1</th>\n",
       "      <td>2</td>\n",
       "      <td>0.0</td>\n",
       "      <td>0.0</td>\n",
       "      <td>1.0</td>\n",
       "      <td>0.0</td>\n",
       "      <td>1.0</td>\n",
       "      <td>0.0</td>\n",
       "      <td>0.0</td>\n",
       "      <td>0.0</td>\n",
       "      <td>0.0</td>\n",
       "      <td>...</td>\n",
       "      <td>0.0</td>\n",
       "      <td>0.0</td>\n",
       "      <td>0.0</td>\n",
       "      <td>0.0</td>\n",
       "      <td>0.0</td>\n",
       "      <td>0.0</td>\n",
       "      <td>0.0</td>\n",
       "      <td>0.0</td>\n",
       "      <td>0.0</td>\n",
       "      <td>0.0</td>\n",
       "    </tr>\n",
       "    <tr>\n",
       "      <th>2</th>\n",
       "      <td>3</td>\n",
       "      <td>0.0</td>\n",
       "      <td>0.0</td>\n",
       "      <td>0.0</td>\n",
       "      <td>0.0</td>\n",
       "      <td>0.0</td>\n",
       "      <td>1.0</td>\n",
       "      <td>0.0</td>\n",
       "      <td>0.0</td>\n",
       "      <td>0.0</td>\n",
       "      <td>...</td>\n",
       "      <td>0.0</td>\n",
       "      <td>0.0</td>\n",
       "      <td>0.0</td>\n",
       "      <td>0.0</td>\n",
       "      <td>0.0</td>\n",
       "      <td>1.0</td>\n",
       "      <td>0.0</td>\n",
       "      <td>0.0</td>\n",
       "      <td>0.0</td>\n",
       "      <td>0.0</td>\n",
       "    </tr>\n",
       "    <tr>\n",
       "      <th>3</th>\n",
       "      <td>4</td>\n",
       "      <td>0.0</td>\n",
       "      <td>0.0</td>\n",
       "      <td>0.0</td>\n",
       "      <td>0.0</td>\n",
       "      <td>0.0</td>\n",
       "      <td>1.0</td>\n",
       "      <td>0.0</td>\n",
       "      <td>0.0</td>\n",
       "      <td>1.0</td>\n",
       "      <td>...</td>\n",
       "      <td>0.0</td>\n",
       "      <td>0.0</td>\n",
       "      <td>0.0</td>\n",
       "      <td>0.0</td>\n",
       "      <td>0.0</td>\n",
       "      <td>1.0</td>\n",
       "      <td>0.0</td>\n",
       "      <td>0.0</td>\n",
       "      <td>0.0</td>\n",
       "      <td>0.0</td>\n",
       "    </tr>\n",
       "  </tbody>\n",
       "</table>\n",
       "<p>4 rows × 21 columns</p>\n",
       "</div>"
      ],
      "text/plain": [
       "   movieId  (no genres listed)  Action  Adventure  Animation  Children  \\\n",
       "0        1                 0.0     0.0        1.0        1.0       1.0   \n",
       "1        2                 0.0     0.0        1.0        0.0       1.0   \n",
       "2        3                 0.0     0.0        0.0        0.0       0.0   \n",
       "3        4                 0.0     0.0        0.0        0.0       0.0   \n",
       "\n",
       "   Comedy  Crime  Documentary  Drama   ...     Film-Noir  Horror  IMAX  \\\n",
       "0     1.0    0.0          0.0    0.0   ...           0.0     0.0   0.0   \n",
       "1     0.0    0.0          0.0    0.0   ...           0.0     0.0   0.0   \n",
       "2     1.0    0.0          0.0    0.0   ...           0.0     0.0   0.0   \n",
       "3     1.0    0.0          0.0    1.0   ...           0.0     0.0   0.0   \n",
       "\n",
       "   Musical  Mystery  Romance  Sci-Fi  Thriller  War  Western  \n",
       "0      0.0      0.0      0.0     0.0       0.0  0.0      0.0  \n",
       "1      0.0      0.0      0.0     0.0       0.0  0.0      0.0  \n",
       "2      0.0      0.0      1.0     0.0       0.0  0.0      0.0  \n",
       "3      0.0      0.0      1.0     0.0       0.0  0.0      0.0  \n",
       "\n",
       "[4 rows x 21 columns]"
      ]
     },
     "execution_count": 76,
     "metadata": {},
     "output_type": "execute_result"
    }
   ],
   "source": [
    "movieFeat[:4]"
   ]
  },
  {
   "cell_type": "code",
   "execution_count": 233,
   "metadata": {},
   "outputs": [
    {
     "data": {
      "text/html": [
       "<div>\n",
       "<style>\n",
       "    .dataframe thead tr:only-child th {\n",
       "        text-align: right;\n",
       "    }\n",
       "\n",
       "    .dataframe thead th {\n",
       "        text-align: left;\n",
       "    }\n",
       "\n",
       "    .dataframe tbody tr th {\n",
       "        vertical-align: top;\n",
       "    }\n",
       "</style>\n",
       "<table border=\"1\" class=\"dataframe\">\n",
       "  <thead>\n",
       "    <tr style=\"text-align: right;\">\n",
       "      <th></th>\n",
       "      <th>id</th>\n",
       "      <th>age</th>\n",
       "      <th>gender</th>\n",
       "      <th>occupation</th>\n",
       "      <th>zip_code</th>\n",
       "    </tr>\n",
       "  </thead>\n",
       "  <tbody>\n",
       "    <tr>\n",
       "      <th>0</th>\n",
       "      <td>1</td>\n",
       "      <td>24</td>\n",
       "      <td>M</td>\n",
       "      <td>technician</td>\n",
       "      <td>85711</td>\n",
       "    </tr>\n",
       "    <tr>\n",
       "      <th>1</th>\n",
       "      <td>2</td>\n",
       "      <td>53</td>\n",
       "      <td>F</td>\n",
       "      <td>other</td>\n",
       "      <td>94043</td>\n",
       "    </tr>\n",
       "    <tr>\n",
       "      <th>2</th>\n",
       "      <td>3</td>\n",
       "      <td>23</td>\n",
       "      <td>M</td>\n",
       "      <td>writer</td>\n",
       "      <td>32067</td>\n",
       "    </tr>\n",
       "    <tr>\n",
       "      <th>3</th>\n",
       "      <td>4</td>\n",
       "      <td>24</td>\n",
       "      <td>M</td>\n",
       "      <td>technician</td>\n",
       "      <td>43537</td>\n",
       "    </tr>\n",
       "    <tr>\n",
       "      <th>4</th>\n",
       "      <td>5</td>\n",
       "      <td>33</td>\n",
       "      <td>F</td>\n",
       "      <td>other</td>\n",
       "      <td>15213</td>\n",
       "    </tr>\n",
       "  </tbody>\n",
       "</table>\n",
       "</div>"
      ],
      "text/plain": [
       "   id  age gender  occupation zip_code\n",
       "0   1   24      M  technician    85711\n",
       "1   2   53      F       other    94043\n",
       "2   3   23      M      writer    32067\n",
       "3   4   24      M  technician    43537\n",
       "4   5   33      F       other    15213"
      ]
     },
     "execution_count": 233,
     "metadata": {},
     "output_type": "execute_result"
    }
   ],
   "source": [
    "userData=pd.read_table(datapath+'u.user',header=None,sep='|',names=['id','age','gender','occupation','zip_code'])\n",
    "\n",
    "userData[:5]"
   ]
  },
  {
   "cell_type": "code",
   "execution_count": 230,
   "metadata": {
    "collapsed": true
   },
   "outputs": [],
   "source": [
    "bins=[7,18,26,36,61,100]\n",
    "group_names=['young','youth','youngAdult','middleAge','Senior']\n",
    "cats=pd.cut(userData['age'],bins,labels=group_names)\n",
    "age_dummies=pd.get_dummies(cats)\n",
    "occupatins=pd.get_dummies(userData['occupation'])\n",
    "genders=pd.get_dummies(userData['gender'])\n",
    "userFeat=userData[['id']].join([age_dummies,occupatins,genders])"
   ]
  },
  {
   "cell_type": "code",
   "execution_count": 245,
   "metadata": {},
   "outputs": [
    {
     "data": {
      "text/html": [
       "<div>\n",
       "<style>\n",
       "    .dataframe thead tr:only-child th {\n",
       "        text-align: right;\n",
       "    }\n",
       "\n",
       "    .dataframe thead th {\n",
       "        text-align: left;\n",
       "    }\n",
       "\n",
       "    .dataframe tbody tr th {\n",
       "        vertical-align: top;\n",
       "    }\n",
       "</style>\n",
       "<table border=\"1\" class=\"dataframe\">\n",
       "  <thead>\n",
       "    <tr style=\"text-align: right;\">\n",
       "      <th></th>\n",
       "      <th>id</th>\n",
       "      <th>Senior</th>\n",
       "      <th>middleAge</th>\n",
       "      <th>young</th>\n",
       "      <th>youngAdult</th>\n",
       "      <th>youth</th>\n",
       "      <th>administrator</th>\n",
       "      <th>artist</th>\n",
       "      <th>doctor</th>\n",
       "      <th>educator</th>\n",
       "      <th>...</th>\n",
       "      <th>other</th>\n",
       "      <th>programmer</th>\n",
       "      <th>retired</th>\n",
       "      <th>salesman</th>\n",
       "      <th>scientist</th>\n",
       "      <th>student</th>\n",
       "      <th>technician</th>\n",
       "      <th>writer</th>\n",
       "      <th>F</th>\n",
       "      <th>M</th>\n",
       "    </tr>\n",
       "  </thead>\n",
       "  <tbody>\n",
       "    <tr>\n",
       "      <th>0</th>\n",
       "      <td>1</td>\n",
       "      <td>0</td>\n",
       "      <td>0</td>\n",
       "      <td>0</td>\n",
       "      <td>0</td>\n",
       "      <td>1</td>\n",
       "      <td>0</td>\n",
       "      <td>0</td>\n",
       "      <td>0</td>\n",
       "      <td>0</td>\n",
       "      <td>...</td>\n",
       "      <td>0</td>\n",
       "      <td>0</td>\n",
       "      <td>0</td>\n",
       "      <td>0</td>\n",
       "      <td>0</td>\n",
       "      <td>0</td>\n",
       "      <td>1</td>\n",
       "      <td>0</td>\n",
       "      <td>0</td>\n",
       "      <td>1</td>\n",
       "    </tr>\n",
       "    <tr>\n",
       "      <th>1</th>\n",
       "      <td>2</td>\n",
       "      <td>0</td>\n",
       "      <td>1</td>\n",
       "      <td>0</td>\n",
       "      <td>0</td>\n",
       "      <td>0</td>\n",
       "      <td>0</td>\n",
       "      <td>0</td>\n",
       "      <td>0</td>\n",
       "      <td>0</td>\n",
       "      <td>...</td>\n",
       "      <td>1</td>\n",
       "      <td>0</td>\n",
       "      <td>0</td>\n",
       "      <td>0</td>\n",
       "      <td>0</td>\n",
       "      <td>0</td>\n",
       "      <td>0</td>\n",
       "      <td>0</td>\n",
       "      <td>1</td>\n",
       "      <td>0</td>\n",
       "    </tr>\n",
       "    <tr>\n",
       "      <th>2</th>\n",
       "      <td>3</td>\n",
       "      <td>0</td>\n",
       "      <td>0</td>\n",
       "      <td>0</td>\n",
       "      <td>0</td>\n",
       "      <td>1</td>\n",
       "      <td>0</td>\n",
       "      <td>0</td>\n",
       "      <td>0</td>\n",
       "      <td>0</td>\n",
       "      <td>...</td>\n",
       "      <td>0</td>\n",
       "      <td>0</td>\n",
       "      <td>0</td>\n",
       "      <td>0</td>\n",
       "      <td>0</td>\n",
       "      <td>0</td>\n",
       "      <td>0</td>\n",
       "      <td>1</td>\n",
       "      <td>0</td>\n",
       "      <td>1</td>\n",
       "    </tr>\n",
       "    <tr>\n",
       "      <th>3</th>\n",
       "      <td>4</td>\n",
       "      <td>0</td>\n",
       "      <td>0</td>\n",
       "      <td>0</td>\n",
       "      <td>0</td>\n",
       "      <td>1</td>\n",
       "      <td>0</td>\n",
       "      <td>0</td>\n",
       "      <td>0</td>\n",
       "      <td>0</td>\n",
       "      <td>...</td>\n",
       "      <td>0</td>\n",
       "      <td>0</td>\n",
       "      <td>0</td>\n",
       "      <td>0</td>\n",
       "      <td>0</td>\n",
       "      <td>0</td>\n",
       "      <td>1</td>\n",
       "      <td>0</td>\n",
       "      <td>0</td>\n",
       "      <td>1</td>\n",
       "    </tr>\n",
       "    <tr>\n",
       "      <th>4</th>\n",
       "      <td>5</td>\n",
       "      <td>0</td>\n",
       "      <td>0</td>\n",
       "      <td>0</td>\n",
       "      <td>1</td>\n",
       "      <td>0</td>\n",
       "      <td>0</td>\n",
       "      <td>0</td>\n",
       "      <td>0</td>\n",
       "      <td>0</td>\n",
       "      <td>...</td>\n",
       "      <td>1</td>\n",
       "      <td>0</td>\n",
       "      <td>0</td>\n",
       "      <td>0</td>\n",
       "      <td>0</td>\n",
       "      <td>0</td>\n",
       "      <td>0</td>\n",
       "      <td>0</td>\n",
       "      <td>1</td>\n",
       "      <td>0</td>\n",
       "    </tr>\n",
       "  </tbody>\n",
       "</table>\n",
       "<p>5 rows × 29 columns</p>\n",
       "</div>"
      ],
      "text/plain": [
       "   id  Senior  middleAge  young  youngAdult  youth  administrator  artist  \\\n",
       "0   1       0          0      0           0      1              0       0   \n",
       "1   2       0          1      0           0      0              0       0   \n",
       "2   3       0          0      0           0      1              0       0   \n",
       "3   4       0          0      0           0      1              0       0   \n",
       "4   5       0          0      0           1      0              0       0   \n",
       "\n",
       "   doctor  educator ...  other  programmer  retired  salesman  scientist  \\\n",
       "0       0         0 ...      0           0        0         0          0   \n",
       "1       0         0 ...      1           0        0         0          0   \n",
       "2       0         0 ...      0           0        0         0          0   \n",
       "3       0         0 ...      0           0        0         0          0   \n",
       "4       0         0 ...      1           0        0         0          0   \n",
       "\n",
       "   student  technician  writer  F  M  \n",
       "0        0           1       0  0  1  \n",
       "1        0           0       0  1  0  \n",
       "2        0           0       1  0  1  \n",
       "3        0           1       0  0  1  \n",
       "4        0           0       0  1  0  \n",
       "\n",
       "[5 rows x 29 columns]"
      ]
     },
     "execution_count": 245,
     "metadata": {},
     "output_type": "execute_result"
    }
   ],
   "source": [
    "userFeat[:5]"
   ]
  },
  {
   "cell_type": "code",
   "execution_count": 234,
   "metadata": {
    "collapsed": true
   },
   "outputs": [],
   "source": [
    "uiData=pd.read_table(datapath+'u.data',header=None,names=['user_id','item_id','rating','timestamp'])"
   ]
  },
  {
   "cell_type": "code",
   "execution_count": 236,
   "metadata": {},
   "outputs": [
    {
     "data": {
      "text/plain": [
       "4    34174\n",
       "3    27145\n",
       "5    21201\n",
       "2    11370\n",
       "1     6110\n",
       "Name: rating, dtype: int64"
      ]
     },
     "execution_count": 236,
     "metadata": {},
     "output_type": "execute_result"
    }
   ],
   "source": [
    "uiData.rating.value_counts()"
   ]
  },
  {
   "cell_type": "code",
   "execution_count": 238,
   "metadata": {},
   "outputs": [
    {
     "data": {
      "text/plain": [
       "55375"
      ]
     },
     "execution_count": 238,
     "metadata": {},
     "output_type": "execute_result"
    }
   ],
   "source": [
    "uiData['rating'][uiData.rating >= 4].count()"
   ]
  },
  {
   "cell_type": "code",
   "execution_count": 239,
   "metadata": {},
   "outputs": [
    {
     "data": {
      "text/plain": [
       "44625"
      ]
     },
     "execution_count": 239,
     "metadata": {},
     "output_type": "execute_result"
    }
   ],
   "source": [
    "uiData['rating'][uiData.rating < 4].count()"
   ]
  },
  {
   "cell_type": "code",
   "execution_count": 276,
   "metadata": {},
   "outputs": [],
   "source": [
    "uiData['label']=uiData['rating'].map(lambda x:(x>=4))\n",
    "allFeature=pd.merge(uiData[['user_id','item_id','label']],userFeat,how='left',left_on='user_id',right_on='id')\n",
    "allFeature=pd.merge(allFeature,movieFeat,left_on='item_id',right_on='movie_id',how='left')\n",
    "labels=allFeature['label']\n",
    "Features=allFeature.drop(['id','movie_id','release_year'],axis=1)\n",
    "Features_p=Features[Features.label]\n",
    "Features_n=Features[~Features.label]\n",
    "P_train,P_test=train_test_split(Features_p,test_size=0.2,random_state=0)\n",
    "N_train,N_test=train_test_split(Features_n,test_size=0.2,random_state=0)"
   ]
  },
  {
   "cell_type": "code",
   "execution_count": 273,
   "metadata": {},
   "outputs": [
    {
     "data": {
      "text/plain": [
       "(44300, 50)"
      ]
     },
     "execution_count": 273,
     "metadata": {},
     "output_type": "execute_result"
    }
   ],
   "source": [
    "P_train.shape"
   ]
  },
  {
   "cell_type": "code",
   "execution_count": 274,
   "metadata": {},
   "outputs": [
    {
     "data": {
      "text/plain": [
       "(11075, 50)"
      ]
     },
     "execution_count": 274,
     "metadata": {},
     "output_type": "execute_result"
    }
   ],
   "source": [
    "P_test.shape"
   ]
  },
  {
   "cell_type": "code",
   "execution_count": 281,
   "metadata": {},
   "outputs": [],
   "source": [
    "all_train=pd.concat([P_train,N_train])\n",
    "all_train_features=all_train.drop(['label','user_id','item_id'],axis=1)\n",
    "#又重新复制了一遍数据!!!! 又或者是pandas的切片,需要研究一下内部机制!!\n",
    "all_train_label=all_train.label#训练集的标签数据\n",
    "all_test=pd.concat([P_test,N_test])\n",
    "all_test_features=all_test.drop(['label','user_id','item_id'],axis=1)\n",
    "all_test_label=all_test.label"
   ]
  },
  {
   "cell_type": "code",
   "execution_count": 283,
   "metadata": {},
   "outputs": [
    {
     "data": {
      "text/plain": [
       "(20000, 47)"
      ]
     },
     "execution_count": 283,
     "metadata": {},
     "output_type": "execute_result"
    }
   ],
   "source": [
    "all_test_features.shape"
   ]
  },
  {
   "cell_type": "code",
   "execution_count": 284,
   "metadata": {},
   "outputs": [
    {
     "data": {
      "text/plain": [
       "(80000, 47)"
      ]
     },
     "execution_count": 284,
     "metadata": {},
     "output_type": "execute_result"
    }
   ],
   "source": [
    "all_train_features.shape"
   ]
  },
  {
   "cell_type": "code",
   "execution_count": 294,
   "metadata": {},
   "outputs": [
    {
     "name": "stdout",
     "output_type": "stream",
     "text": [
      "Number of mislabeled points out of a total 20000 points : 8421\n"
     ]
    }
   ],
   "source": [
    "#得到特征数据和标签数据之后,开始训练模型\n",
    "from sklearn.naive_bayes import BernoulliNB\n",
    "bnb=BernoulliNB(binarize=None)\n",
    "y_pred=bnb.fit(all_train_features,all_train_label).predict(all_test_features)\n",
    "print('Number of mislabeled points out of a total %d points : %d') \\\n",
    "%(len(all_test_label),(all_test_label != y_pred).sum())"
   ]
  },
  {
   "cell_type": "code",
   "execution_count": 295,
   "metadata": {
    "collapsed": true
   },
   "outputs": [],
   "source": [
    "trained=bnb.fit(all_train_features,all_train_label)"
   ]
  },
  {
   "cell_type": "code",
   "execution_count": 296,
   "metadata": {},
   "outputs": [
    {
     "data": {
      "text/plain": [
       "array([35700., 44300.])"
      ]
     },
     "execution_count": 296,
     "metadata": {},
     "output_type": "execute_result"
    }
   ],
   "source": [
    "trained.class_count_"
   ]
  },
  {
   "cell_type": "code",
   "execution_count": 305,
   "metadata": {},
   "outputs": [
    {
     "data": {
      "text/plain": [
       "array([3.0600e+02, 1.0571e+04, 1.6140e+03, 1.2148e+04, 1.1048e+04,\n",
       "       2.4650e+03, 7.2400e+02, 1.5200e+02, 2.9310e+03, 3.0230e+03,\n",
       "       8.2200e+02, 1.2810e+03, 1.4840e+03, 1.1500e+02, 3.7100e+02,\n",
       "       1.8630e+03, 7.4500e+02, 2.7300e+02, 3.8440e+03, 2.6760e+03,\n",
       "       6.0000e+02, 2.8400e+02, 7.0500e+02, 7.8770e+03, 1.2200e+03,\n",
       "       2.2450e+03, 9.2270e+03, 2.6473e+04, 3.0000e+00, 9.6130e+03,\n",
       "       5.1470e+03, 1.2490e+03, 2.9900e+03, 1.1897e+04, 2.5600e+03,\n",
       "       2.3300e+02, 1.2240e+04, 6.2800e+02, 4.0500e+02, 2.2810e+03,\n",
       "       1.8090e+03, 1.6580e+03, 6.4650e+03, 4.4160e+03, 7.9220e+03,\n",
       "       2.5010e+03, 6.4900e+02])"
      ]
     },
     "execution_count": 305,
     "metadata": {},
     "output_type": "execute_result"
    }
   ],
   "source": [
    "trained.feature_count_[0]."
   ]
  },
  {
   "cell_type": "code",
   "execution_count": 300,
   "metadata": {},
   "outputs": [
    {
     "data": {
      "text/plain": [
       "array([[-4.75611424, -1.21699771, -3.09587175, -1.07795985, -1.17286678,\n",
       "        -2.6726093 , -3.89679033, -5.45252407, -2.49952193, -2.46862625,\n",
       "        -3.77000579, -3.32678535, -3.17979194, -5.7293718 , -4.56406813,\n",
       "        -2.95248199, -3.86823639, -4.86983388, -2.22843311, -2.59050995,\n",
       "        -4.08436705, -4.83047281, -3.92334675, -1.51113265, -3.37553651,\n",
       "        -2.76605585, -1.35296437, -0.29904359, -9.09666763, -1.31198634,\n",
       "        -1.93659842, -3.35206316, -2.47959893, -1.09883639, -2.6348089 ,\n",
       "        -5.02764087, -1.07041574, -4.03883073, -4.47660883, -2.75015446,\n",
       "        -2.98187986, -3.0689917 , -1.70864903, -2.08974598, -1.50543679,\n",
       "        -2.6581163 , -4.00598963],\n",
       "       [-4.63966191, -1.12047383, -3.03256318, -1.0893331 , -1.2762408 ,\n",
       "        -2.52014631, -3.6803833 , -5.10407372, -2.256531  , -2.53798118,\n",
       "        -3.90981336, -3.42777656, -4.04592207, -6.03534601, -4.16354383,\n",
       "        -2.94045163, -4.00546143, -4.54392701, -2.256531  , -2.50898548,\n",
       "        -4.18703977, -4.69737022, -3.82769381, -1.52158795, -3.35406605,\n",
       "        -2.99803731, -1.35443845, -0.29853028, -9.08934719, -1.41287354,\n",
       "        -2.01964314, -3.30613758, -2.78599588, -1.31222509, -2.45681854,\n",
       "        -4.74554177, -0.80752196, -4.60747522, -3.82977065, -3.09738277,\n",
       "        -3.02138467, -2.87834559, -1.56889585, -2.04933633, -1.54026448,\n",
       "        -2.18119199, -3.95590447]])"
      ]
     },
     "execution_count": 300,
     "metadata": {},
     "output_type": "execute_result"
    }
   ],
   "source": [
    "trained.feature_log_prob_"
   ]
  },
  {
   "cell_type": "code",
   "execution_count": null,
   "metadata": {
    "collapsed": true
   },
   "outputs": [],
   "source": []
  }
 ],
 "metadata": {
  "kernelspec": {
   "display_name": "Python 2",
   "language": "python",
   "name": "python2"
  },
  "language_info": {
   "codemirror_mode": {
    "name": "ipython",
    "version": 2
   },
   "file_extension": ".py",
   "mimetype": "text/x-python",
   "name": "python",
   "nbconvert_exporter": "python",
   "pygments_lexer": "ipython2",
   "version": "2.7.14"
  }
 },
 "nbformat": 4,
 "nbformat_minor": 2
}
