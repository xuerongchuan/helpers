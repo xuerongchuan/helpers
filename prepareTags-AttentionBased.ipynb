{
 "cells": [
  {
   "cell_type": "markdown",
   "metadata": {},
   "source": [
    "### tag+DL+Attention\n",
    "这是论文TRSDL的实现及改进\n",
    "这里的改进是添加如论文《A Reccurent Neural Network Based Recommendation System》\n",
    "\n",
    "因为没有额外的数据来训练tag的潜入特征，这里是直接用标签和项目的属性进行的训练，训练采用的包是gensim的word2vec\n",
    "使用tag作为attention的query\n",
    "\n"
   ]
  },
  {
   "cell_type": "code",
   "execution_count": 1,
   "metadata": {},
   "outputs": [
    {
     "name": "stderr",
     "output_type": "stream",
     "text": [
      "c:\\users\\yxr\\anaconda3\\lib\\site-packages\\gensim\\utils.py:1212: UserWarning: detected Windows; aliasing chunkize to chunkize_serial\n",
      "  warnings.warn(\"detected Windows; aliasing chunkize to chunkize_serial\")\n"
     ]
    }
   ],
   "source": [
    "import time\n",
    "from datetime import datetime\n",
    "\n",
    "import pandas as pd\n",
    "import numpy as np\n",
    "\n",
    "import os\n",
    "import re\n",
    "\n",
    "import tensorflow as tf\n",
    "import logging\n",
    "\n",
    "import gensim \n",
    "\n",
    "from gensim.test.utils import get_tmpfile\n",
    "from gensim.models import Word2Vec\n",
    "\n",
    "import matplotlib.pyplot as plt"
   ]
  },
  {
   "cell_type": "markdown",
   "metadata": {},
   "source": [
    "## 准备数据阶段"
   ]
  },
  {
   "cell_type": "code",
   "execution_count": null,
   "metadata": {},
   "outputs": [],
   "source": [
    "tag_data = pd.read_csv('../ml-20m/tags.csv')\n",
    "\n",
    "tag_data.dropna(inplace=True)\n",
    "\n",
    "tag_data.sort_values('timestamp', inplace=True)"
   ]
  },
  {
   "cell_type": "markdown",
   "metadata": {},
   "source": [
    "### 去除使用次数少于一次的标签 "
   ]
  },
  {
   "cell_type": "code",
   "execution_count": null,
   "metadata": {},
   "outputs": [],
   "source": [
    "# tag_count = tag_data.tag.value_counts()\n",
    "\n",
    "# tag_data = pd.merge(tag_data, tag_count.to_frame(), left_on='tag', right_index=True).drop(['tag_x'], axis=1)\n",
    "\n",
    "# tag_data.rename(columns={'tag_y':'tag_count'}, inplace=True)\n",
    "\n",
    "# tag_data = tag_data[tag_data.tag_count > 1]"
   ]
  },
  {
   "cell_type": "code",
   "execution_count": null,
   "metadata": {},
   "outputs": [],
   "source": [
    "tag_data.head()"
   ]
  },
  {
   "cell_type": "code",
   "execution_count": null,
   "metadata": {},
   "outputs": [],
   "source": [
    "print('打过tag的用户总数：', len(tag_data.userId.unique()))\n",
    "print('打过tag的电影总数：', len(tag_data.movieId.unique()))\n",
    "print('标签总数', len(tag_data.tag.unique()))"
   ]
  },
  {
   "cell_type": "code",
   "execution_count": null,
   "metadata": {},
   "outputs": [],
   "source": [
    "def train_test_split(data, test_rate=0.2):\n",
    "    user_ids = data.userId.unique()\n",
    "    test = []\n",
    "    train = []\n",
    "    for uid in user_ids:\n",
    "        u_data = data[data.userId == uid].sort_values('timestamp')\n",
    "        if len(u_data) > 1/test_rate:\n",
    "            train.append(u_data[:int(len(u_data)*(1-test_rate))])\n",
    "            test.append(u_data[int(len(u_data)*(1-test_rate)):])\n",
    "        else:\n",
    "            train.append(u_data)\n",
    "    return pd.concat(train), pd.concat(test)\n",
    "        "
   ]
  },
  {
   "cell_type": "code",
   "execution_count": null,
   "metadata": {},
   "outputs": [],
   "source": [
    "train_data , test_data = train_test_split(tag_data)"
   ]
  },
  {
   "cell_type": "markdown",
   "metadata": {},
   "source": [
    "### 获取对应的评分数据用于训练 "
   ]
  },
  {
   "cell_type": "code",
   "execution_count": null,
   "metadata": {},
   "outputs": [],
   "source": [
    "rating_data = pd.read_csv('../ml-20m/ratings.csv')\n",
    "\n",
    "train_pairs = train_data.apply(lambda x : (x['userId'], x['movieId']), axis=1)\n",
    "\n",
    "test_pairs = test_data.apply(lambda x : (x['userId'], x['movieId']), axis=1)\n",
    "\n",
    "rating_data = rating_data[rating_data.userId.isin(train_data.userId.unique())]\n",
    "\n",
    "rating_data['pairs'] = rating_data.apply(lambda x : (x['userId'], x['movieId']), axis=1)\n",
    "\n",
    "train = rating_data[rating_data.pairs.isin(train_pairs)]\n",
    "\n",
    "test = rating_data[rating_data.pairs.isin(test_pairs)]"
   ]
  },
  {
   "cell_type": "markdown",
   "metadata": {},
   "source": [
    "### 将数据序列化至硬盘，方便下次直接读取 "
   ]
  },
  {
   "cell_type": "code",
   "execution_count": null,
   "metadata": {},
   "outputs": [],
   "source": [
    "train.to_csv('train_rating.data')\n",
    "test.to_csv('test_rating.data')\n",
    "\n",
    "train_data.sort_values('timestamp').to_csv('train.data', encoding='utf-8')\n",
    "\n",
    "test_data.sort_values('timestamp').to_csv('test.data', encoding='utf-8')"
   ]
  },
  {
   "cell_type": "markdown",
   "metadata": {},
   "source": [
    "### 直接读取训练测试集数据 "
   ]
  },
  {
   "cell_type": "code",
   "execution_count": 2,
   "metadata": {},
   "outputs": [],
   "source": [
    "train_data = pd.read_csv('train.data')\n",
    "test_data = pd.read_csv('test.data')\n",
    "\n",
    "train = pd.read_csv('train_rating.data')\n",
    "test = pd.read_csv('test_rating.data')"
   ]
  },
  {
   "cell_type": "code",
   "execution_count": 3,
   "metadata": {},
   "outputs": [],
   "source": [
    "def print_info(data):\n",
    "    print('用户总数：', len(data.userId.unique()))\n",
    "    print('电影总数：', len(data.movieId.unique()))\n",
    "    #print('标签总数', len(data.tag.unique()))"
   ]
  },
  {
   "cell_type": "code",
   "execution_count": 4,
   "metadata": {},
   "outputs": [
    {
     "name": "stdout",
     "output_type": "stream",
     "text": [
      "用户总数： 7148\n",
      "电影总数： 12119\n"
     ]
    }
   ],
   "source": [
    "print_info(train)"
   ]
  },
  {
   "cell_type": "code",
   "execution_count": 5,
   "metadata": {},
   "outputs": [
    {
     "data": {
      "text/html": [
       "<div>\n",
       "<table border=\"1\" class=\"dataframe\">\n",
       "  <thead>\n",
       "    <tr style=\"text-align: right;\">\n",
       "      <th></th>\n",
       "      <th>Unnamed: 0</th>\n",
       "      <th>userId</th>\n",
       "      <th>movieId</th>\n",
       "      <th>tag</th>\n",
       "      <th>timestamp</th>\n",
       "    </tr>\n",
       "  </thead>\n",
       "  <tbody>\n",
       "    <tr>\n",
       "      <th>0</th>\n",
       "      <td>333932</td>\n",
       "      <td>100371</td>\n",
       "      <td>2788</td>\n",
       "      <td>monty python</td>\n",
       "      <td>1135429210</td>\n",
       "    </tr>\n",
       "    <tr>\n",
       "      <th>1</th>\n",
       "      <td>333927</td>\n",
       "      <td>100371</td>\n",
       "      <td>1732</td>\n",
       "      <td>coen brothers</td>\n",
       "      <td>1135429236</td>\n",
       "    </tr>\n",
       "    <tr>\n",
       "      <th>2</th>\n",
       "      <td>333924</td>\n",
       "      <td>100371</td>\n",
       "      <td>1206</td>\n",
       "      <td>stanley kubrick</td>\n",
       "      <td>1135429248</td>\n",
       "    </tr>\n",
       "    <tr>\n",
       "      <th>3</th>\n",
       "      <td>333923</td>\n",
       "      <td>100371</td>\n",
       "      <td>1193</td>\n",
       "      <td>jack nicholson</td>\n",
       "      <td>1135429371</td>\n",
       "    </tr>\n",
       "    <tr>\n",
       "      <th>4</th>\n",
       "      <td>333939</td>\n",
       "      <td>100371</td>\n",
       "      <td>5004</td>\n",
       "      <td>peter sellers</td>\n",
       "      <td>1135429399</td>\n",
       "    </tr>\n",
       "  </tbody>\n",
       "</table>\n",
       "</div>"
      ],
      "text/plain": [
       "   Unnamed: 0  userId  movieId              tag   timestamp\n",
       "0      333932  100371     2788     monty python  1135429210\n",
       "1      333927  100371     1732    coen brothers  1135429236\n",
       "2      333924  100371     1206  stanley kubrick  1135429248\n",
       "3      333923  100371     1193   jack nicholson  1135429371\n",
       "4      333939  100371     5004    peter sellers  1135429399"
      ]
     },
     "execution_count": 5,
     "metadata": {},
     "output_type": "execute_result"
    }
   ],
   "source": [
    "train_data.head()"
   ]
  },
  {
   "cell_type": "code",
   "execution_count": 6,
   "metadata": {},
   "outputs": [],
   "source": [
    "def parse_tag(val):\n",
    "    '''处理标签'''\n",
    "    #print(val)\n",
    "    pattern = re.compile(r'\\w+|\\d+')\n",
    "    word_list = pattern.findall(val)\n",
    "    return ' '.join(word_list)\n",
    "train_data['tag'] = train_data.tag.map(parse_tag)"
   ]
  },
  {
   "cell_type": "code",
   "execution_count": 7,
   "metadata": {},
   "outputs": [
    {
     "data": {
      "text/html": [
       "<div>\n",
       "<table border=\"1\" class=\"dataframe\">\n",
       "  <thead>\n",
       "    <tr style=\"text-align: right;\">\n",
       "      <th></th>\n",
       "      <th>Unnamed: 0</th>\n",
       "      <th>userId</th>\n",
       "      <th>movieId</th>\n",
       "      <th>tag</th>\n",
       "      <th>timestamp</th>\n",
       "    </tr>\n",
       "  </thead>\n",
       "  <tbody>\n",
       "    <tr>\n",
       "      <th>0</th>\n",
       "      <td>333932</td>\n",
       "      <td>100371</td>\n",
       "      <td>2788</td>\n",
       "      <td>monty python</td>\n",
       "      <td>1135429210</td>\n",
       "    </tr>\n",
       "    <tr>\n",
       "      <th>1</th>\n",
       "      <td>333927</td>\n",
       "      <td>100371</td>\n",
       "      <td>1732</td>\n",
       "      <td>coen brothers</td>\n",
       "      <td>1135429236</td>\n",
       "    </tr>\n",
       "    <tr>\n",
       "      <th>2</th>\n",
       "      <td>333924</td>\n",
       "      <td>100371</td>\n",
       "      <td>1206</td>\n",
       "      <td>stanley kubrick</td>\n",
       "      <td>1135429248</td>\n",
       "    </tr>\n",
       "    <tr>\n",
       "      <th>3</th>\n",
       "      <td>333923</td>\n",
       "      <td>100371</td>\n",
       "      <td>1193</td>\n",
       "      <td>jack nicholson</td>\n",
       "      <td>1135429371</td>\n",
       "    </tr>\n",
       "    <tr>\n",
       "      <th>4</th>\n",
       "      <td>333939</td>\n",
       "      <td>100371</td>\n",
       "      <td>5004</td>\n",
       "      <td>peter sellers</td>\n",
       "      <td>1135429399</td>\n",
       "    </tr>\n",
       "  </tbody>\n",
       "</table>\n",
       "</div>"
      ],
      "text/plain": [
       "   Unnamed: 0  userId  movieId              tag   timestamp\n",
       "0      333932  100371     2788     monty python  1135429210\n",
       "1      333927  100371     1732    coen brothers  1135429236\n",
       "2      333924  100371     1206  stanley kubrick  1135429248\n",
       "3      333923  100371     1193   jack nicholson  1135429371\n",
       "4      333939  100371     5004    peter sellers  1135429399"
      ]
     },
     "execution_count": 7,
     "metadata": {},
     "output_type": "execute_result"
    }
   ],
   "source": [
    "train_data.head()"
   ]
  },
  {
   "cell_type": "code",
   "execution_count": 8,
   "metadata": {},
   "outputs": [],
   "source": [
    "def aggregate_tags(group):\n",
    "    '''将同一电影的标签聚合'''\n",
    "    tags = ''\n",
    "    for tag in group['tag']:\n",
    "        tags+='|'+tag\n",
    "    return tags\n",
    "movie_tags = train_data[['tag','movieId']].groupby(['movieId']).apply(aggregate_tags)"
   ]
  },
  {
   "cell_type": "markdown",
   "metadata": {},
   "source": [
    "### 根据电影数据学习标签的word2vec嵌入"
   ]
  },
  {
   "cell_type": "code",
   "execution_count": 9,
   "metadata": {},
   "outputs": [
    {
     "data": {
      "text/html": [
       "<div>\n",
       "<table border=\"1\" class=\"dataframe\">\n",
       "  <thead>\n",
       "    <tr style=\"text-align: right;\">\n",
       "      <th></th>\n",
       "      <th>0</th>\n",
       "    </tr>\n",
       "    <tr>\n",
       "      <th>movieId</th>\n",
       "      <th></th>\n",
       "    </tr>\n",
       "  </thead>\n",
       "  <tbody>\n",
       "    <tr>\n",
       "      <th>1</th>\n",
       "      <td>|the boys|classic|pixar|Disney|pixar|cgi|anima...</td>\n",
       "    </tr>\n",
       "    <tr>\n",
       "      <th>2</th>\n",
       "      <td>|monkey|For children|game|animals|kid flick|Fa...</td>\n",
       "    </tr>\n",
       "    <tr>\n",
       "      <th>3</th>\n",
       "      <td>|Funniest Movies|sequel fever|comedinha de vel...</td>\n",
       "    </tr>\n",
       "    <tr>\n",
       "      <th>4</th>\n",
       "      <td>|characters</td>\n",
       "    </tr>\n",
       "    <tr>\n",
       "      <th>5</th>\n",
       "      <td>|family|sequel|wedding|remake|pregnancy|sequel...</td>\n",
       "    </tr>\n",
       "  </tbody>\n",
       "</table>\n",
       "</div>"
      ],
      "text/plain": [
       "                                                         0\n",
       "movieId                                                   \n",
       "1        |the boys|classic|pixar|Disney|pixar|cgi|anima...\n",
       "2        |monkey|For children|game|animals|kid flick|Fa...\n",
       "3        |Funniest Movies|sequel fever|comedinha de vel...\n",
       "4                                              |characters\n",
       "5        |family|sequel|wedding|remake|pregnancy|sequel..."
      ]
     },
     "execution_count": 9,
     "metadata": {},
     "output_type": "execute_result"
    }
   ],
   "source": [
    "movie_tags.to_frame().head()"
   ]
  },
  {
   "cell_type": "code",
   "execution_count": 10,
   "metadata": {},
   "outputs": [],
   "source": [
    "movie_data = pd.read_csv('../ml-20m/movies.csv')"
   ]
  },
  {
   "cell_type": "markdown",
   "metadata": {},
   "source": [
    "### 电影的名字作为"
   ]
  },
  {
   "cell_type": "code",
   "execution_count": 11,
   "metadata": {},
   "outputs": [],
   "source": [
    "\n",
    "# def parse_name(val):\n",
    "#     pattern = re.compile(r'^(.*)\\(\\d+\\)$')\n",
    "#     if pattern.match(val):\n",
    "#         return pattern.match(val).group(1)\n",
    "#     else:\n",
    "#         return None\n",
    "# def parse_time(val):\n",
    "#     pattern = re.compile(r'^.*\\((\\d+)\\)$')\n",
    "#     if pattern.match(val):\n",
    "#         return pattern.match(val).group(1)\n",
    "#     else:\n",
    "#         return None\n",
    "# movie_data['name']= movie_data.title.map(parse_name )\n",
    "# movie_data['publish']= movie_data.title.map( parse_time)\n",
    "\n",
    "# #有一行发现name没有解析到，手动添加好了\n",
    "# movie_data.loc[9773,'name'] = 'Sister Helen'\n",
    "# movie_data.loc[9773,'publish'] = '2002'"
   ]
  },
  {
   "cell_type": "code",
   "execution_count": 12,
   "metadata": {},
   "outputs": [],
   "source": [
    "movie_data = pd.merge(movie_data, movie_tags.to_frame(), left_on='movieId',how='left', right_index=True)\n",
    "\n",
    "movie_data.rename(columns={0:'tags'}, inplace=True)"
   ]
  },
  {
   "cell_type": "code",
   "execution_count": 13,
   "metadata": {},
   "outputs": [
    {
     "data": {
      "text/html": [
       "<div>\n",
       "<table border=\"1\" class=\"dataframe\">\n",
       "  <thead>\n",
       "    <tr style=\"text-align: right;\">\n",
       "      <th></th>\n",
       "      <th>movieId</th>\n",
       "      <th>title</th>\n",
       "      <th>genres</th>\n",
       "      <th>tags</th>\n",
       "    </tr>\n",
       "  </thead>\n",
       "  <tbody>\n",
       "    <tr>\n",
       "      <th>0</th>\n",
       "      <td>1</td>\n",
       "      <td>Toy Story (1995)</td>\n",
       "      <td>Adventure|Animation|Children|Comedy|Fantasy</td>\n",
       "      <td>|the boys|classic|pixar|Disney|pixar|cgi|anima...</td>\n",
       "    </tr>\n",
       "    <tr>\n",
       "      <th>1</th>\n",
       "      <td>2</td>\n",
       "      <td>Jumanji (1995)</td>\n",
       "      <td>Adventure|Children|Fantasy</td>\n",
       "      <td>|monkey|For children|game|animals|kid flick|Fa...</td>\n",
       "    </tr>\n",
       "    <tr>\n",
       "      <th>2</th>\n",
       "      <td>3</td>\n",
       "      <td>Grumpier Old Men (1995)</td>\n",
       "      <td>Comedy|Romance</td>\n",
       "      <td>|Funniest Movies|sequel fever|comedinha de vel...</td>\n",
       "    </tr>\n",
       "    <tr>\n",
       "      <th>3</th>\n",
       "      <td>4</td>\n",
       "      <td>Waiting to Exhale (1995)</td>\n",
       "      <td>Comedy|Drama|Romance</td>\n",
       "      <td>|characters</td>\n",
       "    </tr>\n",
       "    <tr>\n",
       "      <th>4</th>\n",
       "      <td>5</td>\n",
       "      <td>Father of the Bride Part II (1995)</td>\n",
       "      <td>Comedy</td>\n",
       "      <td>|family|sequel|wedding|remake|pregnancy|sequel...</td>\n",
       "    </tr>\n",
       "  </tbody>\n",
       "</table>\n",
       "</div>"
      ],
      "text/plain": [
       "   movieId                               title  \\\n",
       "0        1                    Toy Story (1995)   \n",
       "1        2                      Jumanji (1995)   \n",
       "2        3             Grumpier Old Men (1995)   \n",
       "3        4            Waiting to Exhale (1995)   \n",
       "4        5  Father of the Bride Part II (1995)   \n",
       "\n",
       "                                        genres  \\\n",
       "0  Adventure|Animation|Children|Comedy|Fantasy   \n",
       "1                   Adventure|Children|Fantasy   \n",
       "2                               Comedy|Romance   \n",
       "3                         Comedy|Drama|Romance   \n",
       "4                                       Comedy   \n",
       "\n",
       "                                                tags  \n",
       "0  |the boys|classic|pixar|Disney|pixar|cgi|anima...  \n",
       "1  |monkey|For children|game|animals|kid flick|Fa...  \n",
       "2  |Funniest Movies|sequel fever|comedinha de vel...  \n",
       "3                                        |characters  \n",
       "4  |family|sequel|wedding|remake|pregnancy|sequel...  "
      ]
     },
     "execution_count": 13,
     "metadata": {},
     "output_type": "execute_result"
    }
   ],
   "source": [
    "movie_data.head()"
   ]
  },
  {
   "cell_type": "code",
   "execution_count": 14,
   "metadata": {},
   "outputs": [],
   "source": [
    "movie_data.tags.fillna('', inplace=True)"
   ]
  },
  {
   "cell_type": "code",
   "execution_count": 15,
   "metadata": {},
   "outputs": [],
   "source": [
    "#将所有可以拿来做word2vec的条目进行整合\n",
    "movie_data['words'] = movie_data.apply(lambda x :x['genres']+x['tags'], axis=1)\n",
    "movie_data.words = movie_data.words.map(str.lower)"
   ]
  },
  {
   "cell_type": "code",
   "execution_count": 16,
   "metadata": {},
   "outputs": [
    {
     "data": {
      "text/html": [
       "<div>\n",
       "<table border=\"1\" class=\"dataframe\">\n",
       "  <thead>\n",
       "    <tr style=\"text-align: right;\">\n",
       "      <th></th>\n",
       "      <th>movieId</th>\n",
       "      <th>title</th>\n",
       "      <th>genres</th>\n",
       "      <th>tags</th>\n",
       "      <th>words</th>\n",
       "    </tr>\n",
       "  </thead>\n",
       "  <tbody>\n",
       "    <tr>\n",
       "      <th>0</th>\n",
       "      <td>1</td>\n",
       "      <td>Toy Story (1995)</td>\n",
       "      <td>Adventure|Animation|Children|Comedy|Fantasy</td>\n",
       "      <td>|the boys|classic|pixar|Disney|pixar|cgi|anima...</td>\n",
       "      <td>adventure|animation|children|comedy|fantasy|th...</td>\n",
       "    </tr>\n",
       "    <tr>\n",
       "      <th>1</th>\n",
       "      <td>2</td>\n",
       "      <td>Jumanji (1995)</td>\n",
       "      <td>Adventure|Children|Fantasy</td>\n",
       "      <td>|monkey|For children|game|animals|kid flick|Fa...</td>\n",
       "      <td>adventure|children|fantasy|monkey|for children...</td>\n",
       "    </tr>\n",
       "    <tr>\n",
       "      <th>2</th>\n",
       "      <td>3</td>\n",
       "      <td>Grumpier Old Men (1995)</td>\n",
       "      <td>Comedy|Romance</td>\n",
       "      <td>|Funniest Movies|sequel fever|comedinha de vel...</td>\n",
       "      <td>comedy|romance|funniest movies|sequel fever|co...</td>\n",
       "    </tr>\n",
       "    <tr>\n",
       "      <th>3</th>\n",
       "      <td>4</td>\n",
       "      <td>Waiting to Exhale (1995)</td>\n",
       "      <td>Comedy|Drama|Romance</td>\n",
       "      <td>|characters</td>\n",
       "      <td>comedy|drama|romance|characters</td>\n",
       "    </tr>\n",
       "    <tr>\n",
       "      <th>4</th>\n",
       "      <td>5</td>\n",
       "      <td>Father of the Bride Part II (1995)</td>\n",
       "      <td>Comedy</td>\n",
       "      <td>|family|sequel|wedding|remake|pregnancy|sequel...</td>\n",
       "      <td>comedy|family|sequel|wedding|remake|pregnancy|...</td>\n",
       "    </tr>\n",
       "  </tbody>\n",
       "</table>\n",
       "</div>"
      ],
      "text/plain": [
       "   movieId                               title  \\\n",
       "0        1                    Toy Story (1995)   \n",
       "1        2                      Jumanji (1995)   \n",
       "2        3             Grumpier Old Men (1995)   \n",
       "3        4            Waiting to Exhale (1995)   \n",
       "4        5  Father of the Bride Part II (1995)   \n",
       "\n",
       "                                        genres  \\\n",
       "0  Adventure|Animation|Children|Comedy|Fantasy   \n",
       "1                   Adventure|Children|Fantasy   \n",
       "2                               Comedy|Romance   \n",
       "3                         Comedy|Drama|Romance   \n",
       "4                                       Comedy   \n",
       "\n",
       "                                                tags  \\\n",
       "0  |the boys|classic|pixar|Disney|pixar|cgi|anima...   \n",
       "1  |monkey|For children|game|animals|kid flick|Fa...   \n",
       "2  |Funniest Movies|sequel fever|comedinha de vel...   \n",
       "3                                        |characters   \n",
       "4  |family|sequel|wedding|remake|pregnancy|sequel...   \n",
       "\n",
       "                                               words  \n",
       "0  adventure|animation|children|comedy|fantasy|th...  \n",
       "1  adventure|children|fantasy|monkey|for children...  \n",
       "2  comedy|romance|funniest movies|sequel fever|co...  \n",
       "3                    comedy|drama|romance|characters  \n",
       "4  comedy|family|sequel|wedding|remake|pregnancy|...  "
      ]
     },
     "execution_count": 16,
     "metadata": {},
     "output_type": "execute_result"
    }
   ],
   "source": [
    "movie_data.head()"
   ]
  },
  {
   "cell_type": "markdown",
   "metadata": {},
   "source": [
    "### 直接读取训练好的数据 "
   ]
  },
  {
   "cell_type": "code",
   "execution_count": 17,
   "metadata": {},
   "outputs": [],
   "source": [
    "from gensim.models import KeyedVectors"
   ]
  },
  {
   "cell_type": "code",
   "execution_count": 18,
   "metadata": {},
   "outputs": [],
   "source": [
    "kvmodel = KeyedVectors.load('wordvectors.kv')"
   ]
  },
  {
   "cell_type": "markdown",
   "metadata": {},
   "source": [
    "### 创建标签嵌入字典"
   ]
  },
  {
   "cell_type": "code",
   "execution_count": 19,
   "metadata": {},
   "outputs": [],
   "source": [
    "tags = train_data.tag.unique()"
   ]
  },
  {
   "cell_type": "code",
   "execution_count": 20,
   "metadata": {},
   "outputs": [],
   "source": [
    "tag_dictionary = {}\n",
    "tag_reverse_dict = {}\n",
    "tag_embedding_dict = {}"
   ]
  },
  {
   "cell_type": "code",
   "execution_count": 21,
   "metadata": {},
   "outputs": [],
   "source": [
    "def get_tag_embed(tag, wordvectors):\n",
    "    word_list = parse_tag(tag).split(' ')\n",
    "    embed_list = []\n",
    "    for word in word_list:\n",
    "        word = word.lower()\n",
    "        try:\n",
    "            embed =wordvectors[word]\n",
    "        except Exception as e:\n",
    "            print(tag, e)\n",
    "        else:\n",
    "            embed_list.append(embed)\n",
    "    return sum(embed_list)/len(embed_list)"
   ]
  },
  {
   "cell_type": "code",
   "execution_count": 22,
   "metadata": {},
   "outputs": [],
   "source": [
    "for key,value in enumerate(tags):\n",
    "    tag_dictionary[key] = value\n",
    "    tag_reverse_dict[value] = key\n",
    "    tag_embedding_dict[key] = get_tag_embed(value, kvmodel)"
   ]
  },
  {
   "cell_type": "markdown",
   "metadata": {},
   "source": [
    "### 准备用于训练的用户标签数据\n",
    "因为得到的用户特征应该是从用户的历史标签数据获得的，所以训练的用户都应该是进行过tag行为的用户。"
   ]
  },
  {
   "cell_type": "code",
   "execution_count": 23,
   "metadata": {},
   "outputs": [],
   "source": [
    "train_data['tag_id'] = train_data.tag.map(lambda x : tag_reverse_dict[x])"
   ]
  },
  {
   "cell_type": "code",
   "execution_count": 24,
   "metadata": {},
   "outputs": [
    {
     "data": {
      "text/html": [
       "<div>\n",
       "<table border=\"1\" class=\"dataframe\">\n",
       "  <thead>\n",
       "    <tr style=\"text-align: right;\">\n",
       "      <th></th>\n",
       "      <th>Unnamed: 0</th>\n",
       "      <th>userId</th>\n",
       "      <th>movieId</th>\n",
       "      <th>tag</th>\n",
       "      <th>timestamp</th>\n",
       "      <th>tag_id</th>\n",
       "    </tr>\n",
       "  </thead>\n",
       "  <tbody>\n",
       "    <tr>\n",
       "      <th>0</th>\n",
       "      <td>333932</td>\n",
       "      <td>100371</td>\n",
       "      <td>2788</td>\n",
       "      <td>monty python</td>\n",
       "      <td>1135429210</td>\n",
       "      <td>0</td>\n",
       "    </tr>\n",
       "    <tr>\n",
       "      <th>1</th>\n",
       "      <td>333927</td>\n",
       "      <td>100371</td>\n",
       "      <td>1732</td>\n",
       "      <td>coen brothers</td>\n",
       "      <td>1135429236</td>\n",
       "      <td>1</td>\n",
       "    </tr>\n",
       "    <tr>\n",
       "      <th>2</th>\n",
       "      <td>333924</td>\n",
       "      <td>100371</td>\n",
       "      <td>1206</td>\n",
       "      <td>stanley kubrick</td>\n",
       "      <td>1135429248</td>\n",
       "      <td>2</td>\n",
       "    </tr>\n",
       "    <tr>\n",
       "      <th>3</th>\n",
       "      <td>333923</td>\n",
       "      <td>100371</td>\n",
       "      <td>1193</td>\n",
       "      <td>jack nicholson</td>\n",
       "      <td>1135429371</td>\n",
       "      <td>3</td>\n",
       "    </tr>\n",
       "    <tr>\n",
       "      <th>4</th>\n",
       "      <td>333939</td>\n",
       "      <td>100371</td>\n",
       "      <td>5004</td>\n",
       "      <td>peter sellers</td>\n",
       "      <td>1135429399</td>\n",
       "      <td>4</td>\n",
       "    </tr>\n",
       "  </tbody>\n",
       "</table>\n",
       "</div>"
      ],
      "text/plain": [
       "   Unnamed: 0  userId  movieId              tag   timestamp  tag_id\n",
       "0      333932  100371     2788     monty python  1135429210       0\n",
       "1      333927  100371     1732    coen brothers  1135429236       1\n",
       "2      333924  100371     1206  stanley kubrick  1135429248       2\n",
       "3      333923  100371     1193   jack nicholson  1135429371       3\n",
       "4      333939  100371     5004    peter sellers  1135429399       4"
      ]
     },
     "execution_count": 24,
     "metadata": {},
     "output_type": "execute_result"
    }
   ],
   "source": [
    "train_data.head()"
   ]
  },
  {
   "cell_type": "markdown",
   "metadata": {},
   "source": [
    "这里在整理用户的标签的时候，一定要注意按照时间顺序进行排列，方便后续直接选择最新的L条数据"
   ]
  },
  {
   "cell_type": "markdown",
   "metadata": {},
   "source": [
    "### 获取电影嵌入层 数据"
   ]
  },
  {
   "cell_type": "code",
   "execution_count": 25,
   "metadata": {},
   "outputs": [],
   "source": [
    "def word2embed(words, wordectors):\n",
    "    word_list = ' '.join(words.split('|'))\n",
    "    word_list =[word for word in word_list.split(' ') if word ]\n",
    "    embed_list = []\n",
    "    for word in word_list:\n",
    "        try:\n",
    "            embed_word = wordectors[word]\n",
    "        except Exception as e:\n",
    "            print(words,e)\n",
    "        embed_list.append(embed_word)\n",
    "    return sum(embed_list)/len(embed_list)\n",
    "movie_data['embedding'] = movie_data[['movieId', 'words']].words.map(lambda x : word2embed(x, kvmodel))"
   ]
  },
  {
   "cell_type": "code",
   "execution_count": 26,
   "metadata": {},
   "outputs": [],
   "source": [
    "def get_item_embedding(movie_ids, movie_data):\n",
    "    embed_list = []\n",
    "    for iid in movie_ids:\n",
    "        embed_list.append(movie_data[movie_data.movieId == iid]['embedding'].values[0])\n",
    "    return np.vstack(embed_list)"
   ]
  },
  {
   "cell_type": "markdown",
   "metadata": {},
   "source": [
    "###  获取用户的序列数据\n",
    "要放入LSTM中训练，所需要的数据需要特别处理成[L, batch_size, embed_size ]"
   ]
  },
  {
   "cell_type": "code",
   "execution_count": 27,
   "metadata": {},
   "outputs": [],
   "source": [
    "def get_itemid_and_tagid(uid, train_data):\n",
    "    uid_df = train_data[train_data.userId==uid].sort_values('timestamp')\n",
    "    itemids = uid_df.movieId.values\n",
    "    tagids = uid_df.tag_id.values\n",
    "    return itemids, tagids"
   ]
  },
  {
   "cell_type": "code",
   "execution_count": 28,
   "metadata": {},
   "outputs": [
    {
     "data": {
      "text/html": [
       "<div>\n",
       "<table border=\"1\" class=\"dataframe\">\n",
       "  <thead>\n",
       "    <tr style=\"text-align: right;\">\n",
       "      <th></th>\n",
       "      <th>movieId</th>\n",
       "      <th>title</th>\n",
       "      <th>genres</th>\n",
       "      <th>tags</th>\n",
       "      <th>words</th>\n",
       "      <th>embedding</th>\n",
       "    </tr>\n",
       "  </thead>\n",
       "  <tbody>\n",
       "    <tr>\n",
       "      <th>0</th>\n",
       "      <td>1</td>\n",
       "      <td>Toy Story (1995)</td>\n",
       "      <td>Adventure|Animation|Children|Comedy|Fantasy</td>\n",
       "      <td>|the boys|classic|pixar|Disney|pixar|cgi|anima...</td>\n",
       "      <td>adventure|animation|children|comedy|fantasy|th...</td>\n",
       "      <td>[1.3463397, 0.6780038, 0.2851267, -1.0600985, ...</td>\n",
       "    </tr>\n",
       "    <tr>\n",
       "      <th>1</th>\n",
       "      <td>2</td>\n",
       "      <td>Jumanji (1995)</td>\n",
       "      <td>Adventure|Children|Fantasy</td>\n",
       "      <td>|monkey|For children|game|animals|kid flick|Fa...</td>\n",
       "      <td>adventure|children|fantasy|monkey|for children...</td>\n",
       "      <td>[1.2482871, -0.17743495, -0.0875407, -0.451083...</td>\n",
       "    </tr>\n",
       "    <tr>\n",
       "      <th>2</th>\n",
       "      <td>3</td>\n",
       "      <td>Grumpier Old Men (1995)</td>\n",
       "      <td>Comedy|Romance</td>\n",
       "      <td>|Funniest Movies|sequel fever|comedinha de vel...</td>\n",
       "      <td>comedy|romance|funniest movies|sequel fever|co...</td>\n",
       "      <td>[0.5747506, 0.15034838, 0.07378666, -0.1128338...</td>\n",
       "    </tr>\n",
       "    <tr>\n",
       "      <th>3</th>\n",
       "      <td>4</td>\n",
       "      <td>Waiting to Exhale (1995)</td>\n",
       "      <td>Comedy|Drama|Romance</td>\n",
       "      <td>|characters</td>\n",
       "      <td>comedy|drama|romance|characters</td>\n",
       "      <td>[1.1935364, 0.8308131, -0.42819518, -0.5645936...</td>\n",
       "    </tr>\n",
       "    <tr>\n",
       "      <th>4</th>\n",
       "      <td>5</td>\n",
       "      <td>Father of the Bride Part II (1995)</td>\n",
       "      <td>Comedy</td>\n",
       "      <td>|family|sequel|wedding|remake|pregnancy|sequel...</td>\n",
       "      <td>comedy|family|sequel|wedding|remake|pregnancy|...</td>\n",
       "      <td>[0.8471681, 0.3690049, 0.1280702, -0.17328389,...</td>\n",
       "    </tr>\n",
       "  </tbody>\n",
       "</table>\n",
       "</div>"
      ],
      "text/plain": [
       "   movieId                               title  \\\n",
       "0        1                    Toy Story (1995)   \n",
       "1        2                      Jumanji (1995)   \n",
       "2        3             Grumpier Old Men (1995)   \n",
       "3        4            Waiting to Exhale (1995)   \n",
       "4        5  Father of the Bride Part II (1995)   \n",
       "\n",
       "                                        genres  \\\n",
       "0  Adventure|Animation|Children|Comedy|Fantasy   \n",
       "1                   Adventure|Children|Fantasy   \n",
       "2                               Comedy|Romance   \n",
       "3                         Comedy|Drama|Romance   \n",
       "4                                       Comedy   \n",
       "\n",
       "                                                tags  \\\n",
       "0  |the boys|classic|pixar|Disney|pixar|cgi|anima...   \n",
       "1  |monkey|For children|game|animals|kid flick|Fa...   \n",
       "2  |Funniest Movies|sequel fever|comedinha de vel...   \n",
       "3                                        |characters   \n",
       "4  |family|sequel|wedding|remake|pregnancy|sequel...   \n",
       "\n",
       "                                               words  \\\n",
       "0  adventure|animation|children|comedy|fantasy|th...   \n",
       "1  adventure|children|fantasy|monkey|for children...   \n",
       "2  comedy|romance|funniest movies|sequel fever|co...   \n",
       "3                    comedy|drama|romance|characters   \n",
       "4  comedy|family|sequel|wedding|remake|pregnancy|...   \n",
       "\n",
       "                                           embedding  \n",
       "0  [1.3463397, 0.6780038, 0.2851267, -1.0600985, ...  \n",
       "1  [1.2482871, -0.17743495, -0.0875407, -0.451083...  \n",
       "2  [0.5747506, 0.15034838, 0.07378666, -0.1128338...  \n",
       "3  [1.1935364, 0.8308131, -0.42819518, -0.5645936...  \n",
       "4  [0.8471681, 0.3690049, 0.1280702, -0.17328389,...  "
      ]
     },
     "execution_count": 28,
     "metadata": {},
     "output_type": "execute_result"
    }
   ],
   "source": [
    "movie_data.head()"
   ]
  },
  {
   "cell_type": "code",
   "execution_count": 29,
   "metadata": {},
   "outputs": [
    {
     "data": {
      "text/plain": [
       "(array([ 2788,  1732,  1206,  1193,  5004,    47,    47,  4011,  4011,\n",
       "           32,  2858,  2329,  2329,  6016,  5294,  3168,  3168,  4082,\n",
       "         1884,  1884,  1208,  6003,  6679,  7008, 41569,  1500, 41997,\n",
       "            6, 33171, 38600, 27846, 27846], dtype=int64),\n",
       " array([   0,    1,    2,    3,    4,    5,    6,    5,    7,    8,    9,\n",
       "          10,   11,   12,   20,   64,   63,   70,   24,   71,   72,   73,\n",
       "          74,  993, 1850, 2057, 1850, 2265, 2743, 5151, 1018,   55],\n",
       "       dtype=int64))"
      ]
     },
     "execution_count": 29,
     "metadata": {},
     "output_type": "execute_result"
    }
   ],
   "source": [
    "get_itemid_and_tagid(100371, train_data)"
   ]
  },
  {
   "cell_type": "code",
   "execution_count": 30,
   "metadata": {},
   "outputs": [],
   "source": [
    "movie_df = movie_data[['movieId', 'embedding']].set_index('movieId')"
   ]
  },
  {
   "cell_type": "code",
   "execution_count": 31,
   "metadata": {},
   "outputs": [],
   "source": [
    "def get_tags_embedding(tag_ids, tag_embedding_dict):\n",
    "    tag_embeddings = []\n",
    "    for tid in tag_ids:\n",
    "        if tid == -1:\n",
    "            tag_embeddings.append(np.zeros(embed_size))\n",
    "        else:\n",
    "            tag_embeddings.append(tag_embedding_dict[tid])\n",
    "        return np.vstack(tag_embeddings)\n",
    "        "
   ]
  },
  {
   "cell_type": "code",
   "execution_count": 32,
   "metadata": {},
   "outputs": [],
   "source": [
    "def get_user_embeding(user_ids, L, train_data, movie_df, tag_embedding_dict):\n",
    "    global batch_size\n",
    "    embeddings = []\n",
    "    tag_embeddings = []\n",
    "    for i in  range(L):\n",
    "        user_embed = []\n",
    "        tag_embed = []\n",
    "        for uid in user_ids:\n",
    "            user_movie_tag  = []\n",
    "            itemids, tagids = get_itemid_and_tagid(uid, train_data)\n",
    "            if i+1 > len(itemids):\n",
    "                user_embed.append(np.zeros(embed_size))\n",
    "                user_movie_tag.append(-1)\n",
    "            else:\n",
    "                user_embed.append(movie_df.loc[itemids[-(i+1)], 'embedding' ])\n",
    "                user_movie_tag.append(tagids[-(i+1)])\n",
    "            user_movie_tag = list(reversed(user_movie_tag))\n",
    "            tag_embed.append(get_tags_embedding(user_movie_tag, tag_embedding_dict))\n",
    "        user_embed = reversed(user_embed)\n",
    "        tag_embed = reversed(tag_embed)\n",
    "        embeddings.append(np.vstack(user_embed))\n",
    "        tag_embeddings.append(np.vstack(tag_embed))\n",
    "    return np.array(embeddings), np.array(tag_embeddings)"
   ]
  },
  {
   "cell_type": "code",
   "execution_count": 34,
   "metadata": {},
   "outputs": [],
   "source": [
    "def get_batches(Xs, ys):\n",
    "    global batch_size\n",
    "    num = len(Xs)\n",
    "    for i in range(batch_size):\n",
    "        select_index = np.random.choice(range(num), size=batch_size, replace=False)\n",
    "#         print(select_index)\n",
    "        return  Xs.iloc[select_index, :], ys[select_index]"
   ]
  },
  {
   "cell_type": "markdown",
   "metadata": {},
   "source": [
    "### 定义数据接口"
   ]
  },
  {
   "cell_type": "code",
   "execution_count": 35,
   "metadata": {},
   "outputs": [],
   "source": [
    "def get_inputs():\n",
    "    item_embed_layer = tf.placeholder(tf.float32, shape=[batch_size, embed_size])\n",
    "    user_embed_layer = tf.placeholder(tf.float32, shape=[L, batch_size, embed_size])\n",
    "    tag_embed_layer = tf.placeholder(tf.float32, shape=[L, batch_size, embed_size])\n",
    "    targets = tf.placeholder(tf.float32, [None, 1], name=\"targets\")\n",
    "    learning_rate = tf.placeholder(tf.float32, name='learning_rate')\n",
    "    return item_embed_layer, user_embed_layer, targets, learning_rate, tag_embed_layer"
   ]
  },
  {
   "cell_type": "markdown",
   "metadata": {},
   "source": [
    "### 构建计算图 "
   ]
  },
  {
   "cell_type": "code",
   "execution_count": 46,
   "metadata": {},
   "outputs": [],
   "source": [
    "L = 3\n",
    "batch_size = 256\n",
    "embed_size = 100#前面gensim用的100\n",
    "lstm_embed = 64\n",
    "\n",
    "num_steps = 10\n",
    "learning_rate = 0.001\n",
    "show_evey_batches = 100"
   ]
  },
  {
   "cell_type": "code",
   "execution_count": 47,
   "metadata": {},
   "outputs": [],
   "source": [
    "tf.reset_default_graph()\n",
    "graph =tf.Graph()\n",
    "with graph.as_default():\n",
    "    item_embed_layer, user_embed_layer, targets, lr, tag_embed_layer = get_inputs()\n",
    "    with tf.name_scope('item_layer'):\n",
    "        item_fc_layer = tf.layers.dense(item_embed_layer, 64, name='fc_layer_1', activation=tf.nn.relu)\n",
    "    with tf.name_scope('user_layer'):\n",
    "        lstm = tf.contrib.rnn.BasicLSTMCell(100)\n",
    "        # Initial state of the LSTM memory.\n",
    "        state = lstm.zero_state(batch_size, dtype=tf.float32)\n",
    "        states = []\n",
    "        for i in range(user_embed_layer.shape[0]):\n",
    "            # The value of state is updated after processing each batch of words.\n",
    "            _, state = lstm(user_embed_layer[i], state)\n",
    "            states.append(state.c)\n",
    "#             state.c  = tf.layers.dense(tf.concat([state.c, tag_embed_layer[i]], 1),units=64, activation=tf.nn.relu)\n",
    "            # The LSTM output can be used to make next word predictions\n",
    "        lstm = tf.contrib.rnn.BasicLSTMCell(64)\n",
    "        # Initial state of the LSTM memory.\n",
    "        state = lstm.zero_state(batch_size, dtype=tf.float32)\n",
    "        for i in range(user_embed_layer.shape[0]):\n",
    "            # The value of state is updated after processing each batch of words.\n",
    "#             new_input = tf.layers.dense(tf.concat([states[i],tag_embed_layer[i]], 1), units=100, activation=tf.nn.relu)\n",
    "            new_input = tf.reduce_mean([states[i], tag_embed_layer[i]], axis=0)\n",
    "            output, state = lstm(new_input, state)\n",
    "    with tf.name_scope(\"inference\"):\n",
    "\n",
    "        inference = tf.reduce_sum(item_fc_layer *output, axis=1)\n",
    "        inference = tf.expand_dims(inference, axis=1)\n",
    "\n",
    "    with tf.name_scope(\"loss\"):\n",
    "        # MSE损失，将计算值回归到评分\n",
    "        cost = tf.losses.mean_squared_error(targets, inference )\n",
    "        loss = tf.reduce_mean(cost)\n",
    "    \n",
    "    global_step = tf.Variable(0, name=\"global_step\", trainable=False)\n",
    "    optimizer = tf.train.AdamOptimizer(lr)\n",
    "    gradients = optimizer.compute_gradients(loss)  #cost\n",
    "    train_op = optimizer.apply_gradients(gradients, global_step=global_step)"
   ]
  },
  {
   "cell_type": "markdown",
   "metadata": {},
   "source": [
    "### 训练网络 "
   ]
  },
  {
   "cell_type": "code",
   "execution_count": 48,
   "metadata": {},
   "outputs": [],
   "source": [
    "def print_log(message, f):\n",
    "    now = datetime.now().strftime('%Y-%m-%d %H:%M:%S')\n",
    "    print(now + ' '+ message)\n",
    "    print(now + ' '+message, file=f)"
   ]
  },
  {
   "cell_type": "code",
   "execution_count": 49,
   "metadata": {},
   "outputs": [
    {
     "name": "stdout",
     "output_type": "stream",
     "text": [
      "2018-12-28 14:12:57 process:2, L:3, train_loss_mean:16.540205001831055, test_loss_mean:13.913515090942383\n",
      "2018-12-28 14:14:01 process:650, L:3, train_loss_mean:5.527456283569336, test_loss_mean:4.926624298095703\n",
      "2018-12-28 14:16:09 process:5852, L:3, train_loss_mean:2.7520697116851807, test_loss_mean:2.657984733581543\n",
      "2018-12-28 14:17:09 process:10100, L:3, train_loss_mean:2.3730907440185547, test_loss_mean:2.3299973011016846\n",
      "2018-12-28 14:17:12 process:10302, L:3, train_loss_mean:2.220348358154297, test_loss_mean:2.203498363494873\n",
      "2018-12-28 14:18:11 process:15750, L:3, train_loss_mean:1.2640453577041626, test_loss_mean:1.4042608737945557\n",
      "2018-12-28 14:20:19 process:31152, L:3, train_loss_mean:1.1044920682907104, test_loss_mean:1.2101008892059326\n",
      "2018-12-28 14:21:19 process:40200, L:3, train_loss_mean:1.0671805143356323, test_loss_mean:1.1676948070526123\n",
      "2018-12-28 14:21:21 process:40602, L:3, train_loss_mean:1.0667195320129395, test_loss_mean:1.1663801670074463\n",
      "2018-12-28 14:22:21 process:50850, L:3, train_loss_mean:1.05178701877594, test_loss_mean:1.1433444023132324\n",
      "2018-12-28 14:24:31 process:76452, L:3, train_loss_mean:1.0211278200149536, test_loss_mean:1.1294865608215332\n",
      "2018-12-28 14:25:40 process:90300, L:3, train_loss_mean:1.0242360830307007, test_loss_mean:1.134716272354126\n",
      "2018-12-28 14:25:42 process:90902, L:3, train_loss_mean:1.0215771198272705, test_loss_mean:1.1343473196029663\n",
      "2018-12-28 14:26:51 process:105950, L:3, train_loss_mean:1.015041708946228, test_loss_mean:1.1327303647994995\n",
      "2018-12-28 14:29:16 process:141752, L:3, train_loss_mean:0.9997970461845398, test_loss_mean:1.101353406906128\n",
      "2018-12-28 14:30:25 process:160400, L:3, train_loss_mean:0.9934486150741577, test_loss_mean:1.0916026830673218\n",
      "2018-12-28 14:30:28 process:161202, L:3, train_loss_mean:0.993720531463623, test_loss_mean:1.0916337966918945\n",
      "2018-12-28 14:30:39 process:406, L:3, train_loss_mean:0.9968546032905579, test_loss_mean:1.0929919481277466\n",
      "2018-12-28 14:31:22 process:6736, L:3, train_loss_mean:0.9979882836341858, test_loss_mean:1.085121750831604\n",
      "2018-12-28 14:31:37 process:8946, L:3, train_loss_mean:0.9919507503509521, test_loss_mean:1.0899032354354858\n",
      "2018-12-28 14:32:19 process:15876, L:3, train_loss_mean:0.9846047163009644, test_loss_mean:1.09352445602417\n",
      "2018-12-28 14:32:33 process:18286, L:3, train_loss_mean:0.983949601650238, test_loss_mean:1.0943331718444824\n",
      "2018-12-28 14:33:16 process:25816, L:3, train_loss_mean:0.9892970323562622, test_loss_mean:1.0848722457885742\n",
      "2018-12-28 14:33:30 process:28426, L:3, train_loss_mean:0.9979730844497681, test_loss_mean:1.087949514389038\n",
      "2018-12-28 14:34:13 process:36556, L:3, train_loss_mean:0.9931697845458984, test_loss_mean:1.093715786933899\n",
      "2018-12-28 14:34:27 process:39366, L:3, train_loss_mean:0.9925342798233032, test_loss_mean:1.0922515392303467\n",
      "2018-12-28 14:35:09 process:48096, L:3, train_loss_mean:0.9904424548149109, test_loss_mean:1.0894160270690918\n",
      "2018-12-28 14:35:23 process:51106, L:3, train_loss_mean:0.9832815527915955, test_loss_mean:1.0868916511535645\n",
      "2018-12-28 14:36:04 process:60436, L:3, train_loss_mean:0.9819731712341309, test_loss_mean:1.0868476629257202\n",
      "2018-12-28 14:36:18 process:63646, L:3, train_loss_mean:0.9881156086921692, test_loss_mean:1.0843422412872314\n",
      "2018-12-28 14:36:59 process:73576, L:3, train_loss_mean:0.9904806017875671, test_loss_mean:1.0804715156555176\n",
      "2018-12-28 14:37:13 process:76986, L:3, train_loss_mean:0.9835073947906494, test_loss_mean:1.076707363128662\n",
      "2018-12-28 14:37:56 process:87516, L:3, train_loss_mean:0.9727363586425781, test_loss_mean:1.078171968460083\n",
      "2018-12-28 14:38:10 process:91126, L:3, train_loss_mean:0.9687985777854919, test_loss_mean:1.0774505138397217\n",
      "2018-12-28 14:38:49 process:102256, L:3, train_loss_mean:0.9773019552230835, test_loss_mean:1.0677942037582397\n",
      "2018-12-28 14:39:01 process:106066, L:3, train_loss_mean:0.9781984686851501, test_loss_mean:1.0628385543823242\n",
      "2018-12-28 14:39:39 process:117796, L:3, train_loss_mean:0.9777977466583252, test_loss_mean:1.0620505809783936\n",
      "2018-12-28 14:39:51 process:121806, L:3, train_loss_mean:0.9787015318870544, test_loss_mean:1.061886191368103\n",
      "2018-12-28 14:40:29 process:134136, L:3, train_loss_mean:0.9765927791595459, test_loss_mean:1.0619148015975952\n",
      "2018-12-28 14:40:42 process:138346, L:3, train_loss_mean:0.9747838377952576, test_loss_mean:1.0602312088012695\n",
      "2018-12-28 14:41:19 process:151276, L:3, train_loss_mean:0.9769676327705383, test_loss_mean:1.0530357360839844\n",
      "2018-12-28 14:41:32 process:155686, L:3, train_loss_mean:0.9802716970443726, test_loss_mean:1.0623278617858887\n",
      "2018-12-28 14:42:09 process:169216, L:3, train_loss_mean:0.9776384234428406, test_loss_mean:1.0696943998336792\n",
      "2018-12-28 14:42:22 process:173826, L:3, train_loss_mean:0.9742627739906311, test_loss_mean:1.070793628692627\n",
      "2018-12-28 14:43:00 process:187956, L:3, train_loss_mean:0.9662642478942871, test_loss_mean:1.077620029449463\n",
      "2018-12-28 14:43:13 process:192766, L:3, train_loss_mean:0.9669378399848938, test_loss_mean:1.0740649700164795\n",
      "2018-12-28 14:43:50 process:207496, L:3, train_loss_mean:0.9662219882011414, test_loss_mean:1.0717593431472778\n",
      "2018-12-28 14:44:03 process:212506, L:3, train_loss_mean:0.9679865837097168, test_loss_mean:1.0700591802597046\n",
      "2018-12-28 14:44:40 process:227836, L:3, train_loss_mean:0.9672345519065857, test_loss_mean:1.071088194847107\n",
      "2018-12-28 14:44:53 process:233046, L:3, train_loss_mean:0.9669428467750549, test_loss_mean:1.0654959678649902\n",
      "2018-12-28 14:45:34 process:248976, L:3, train_loss_mean:0.9590407013893127, test_loss_mean:1.0662741661071777\n",
      "2018-12-28 14:45:48 process:254386, L:3, train_loss_mean:0.9598677158355713, test_loss_mean:1.0554890632629395\n",
      "2018-12-28 14:46:26 process:270916, L:3, train_loss_mean:0.963849663734436, test_loss_mean:1.0498367547988892\n",
      "2018-12-28 14:46:38 process:276526, L:3, train_loss_mean:0.9688534736633301, test_loss_mean:1.048111915588379\n",
      "2018-12-28 14:47:16 process:293656, L:3, train_loss_mean:0.9690368175506592, test_loss_mean:1.0417009592056274\n",
      "2018-12-28 14:47:28 process:299466, L:3, train_loss_mean:0.9654883742332458, test_loss_mean:1.0457026958465576\n",
      "2018-12-28 14:48:08 process:317196, L:3, train_loss_mean:0.9579212665557861, test_loss_mean:1.0409882068634033\n",
      "2018-12-28 14:48:22 process:323206, L:3, train_loss_mean:0.9540441036224365, test_loss_mean:1.0417137145996094\n",
      "2018-12-28 14:48:33 process:810, L:3, train_loss_mean:0.9524602293968201, test_loss_mean:1.0373374223709106\n",
      "2018-12-28 14:49:18 process:14042, L:3, train_loss_mean:0.9526122808456421, test_loss_mean:1.033775806427002\n",
      "2018-12-28 14:52:07 process:67260, L:3, train_loss_mean:0.9392139911651611, test_loss_mean:1.0407177209854126\n",
      "2018-12-28 14:52:48 process:82892, L:3, train_loss_mean:0.9498998522758484, test_loss_mean:1.0328561067581177\n",
      "2018-12-28 14:53:12 process:91910, L:3, train_loss_mean:0.951728105545044, test_loss_mean:1.0393249988555908\n",
      "2018-12-28 14:53:58 process:108342, L:3, train_loss_mean:0.9575743675231934, test_loss_mean:1.044771671295166\n",
      "2018-12-28 14:56:46 process:173360, L:3, train_loss_mean:0.9552629590034485, test_loss_mean:1.0292614698410034\n",
      "2018-12-28 14:57:31 process:192192, L:3, train_loss_mean:0.9486950635910034, test_loss_mean:1.0337002277374268\n",
      "2018-12-28 14:57:57 process:203010, L:3, train_loss_mean:0.9432687163352966, test_loss_mean:1.028380274772644\n",
      "2018-12-28 14:58:43 process:222642, L:3, train_loss_mean:0.9316953420639038, test_loss_mean:1.0225260257720947\n",
      "2018-12-28 15:01:31 process:299460, L:3, train_loss_mean:0.9300968050956726, test_loss_mean:1.020304560661316\n",
      "2018-12-28 15:02:11 process:321492, L:3, train_loss_mean:0.9289476275444031, test_loss_mean:1.0302571058273315\n",
      "2018-12-28 15:02:34 process:334110, L:3, train_loss_mean:0.9296426177024841, test_loss_mean:1.0294904708862305\n",
      "2018-12-28 15:03:16 process:356942, L:3, train_loss_mean:0.9336443543434143, test_loss_mean:1.0285059213638306\n",
      "2018-12-28 15:05:48 process:445560, L:3, train_loss_mean:0.9206247925758362, test_loss_mean:1.0396398305892944\n",
      "2018-12-28 15:06:28 process:470792, L:3, train_loss_mean:0.9166122674942017, test_loss_mean:1.033531665802002\n",
      "2018-12-28 15:06:50 process:485210, L:3, train_loss_mean:0.919727087020874, test_loss_mean:1.0358147621154785\n"
     ]
    },
    {
     "name": "stdout",
     "output_type": "stream",
     "text": [
      "2018-12-28 15:07:00 process:1214, L:3, train_loss_mean:0.9223279356956482, test_loss_mean:1.0367025136947632\n",
      "2018-12-28 15:07:30 process:15938, L:3, train_loss_mean:0.9167510271072388, test_loss_mean:1.0383132696151733\n",
      "2018-12-28 15:10:12 process:97964, L:3, train_loss_mean:0.9306182861328125, test_loss_mean:1.0198520421981812\n",
      "2018-12-28 15:10:43 process:114488, L:3, train_loss_mean:0.9386559128761292, test_loss_mean:1.0207117795944214\n",
      "2018-12-28 15:11:18 process:132714, L:3, train_loss_mean:0.9348678588867188, test_loss_mean:1.0152311325073242\n",
      "2018-12-28 15:11:53 process:149838, L:3, train_loss_mean:0.9365460276603699, test_loss_mean:1.0104833841323853\n",
      "2018-12-28 15:14:58 process:244464, L:3, train_loss_mean:0.9295393228530884, test_loss_mean:1.002296805381775\n",
      "2018-12-28 15:15:29 process:263388, L:3, train_loss_mean:0.9160239696502686, test_loss_mean:0.9980777502059937\n",
      "2018-12-28 15:16:01 process:284214, L:3, train_loss_mean:0.9238466620445251, test_loss_mean:0.9989364743232727\n",
      "2018-12-28 15:16:31 process:303738, L:3, train_loss_mean:0.922417163848877, test_loss_mean:1.0045685768127441\n",
      "2018-12-28 15:19:07 process:410964, L:3, train_loss_mean:0.9280205368995667, test_loss_mean:1.0207349061965942\n",
      "2018-12-28 15:19:37 process:432288, L:3, train_loss_mean:0.9297749400138855, test_loss_mean:1.0272263288497925\n",
      "2018-12-28 15:20:09 process:455714, L:3, train_loss_mean:0.9194455146789551, test_loss_mean:1.028601884841919\n",
      "2018-12-28 15:20:39 process:477638, L:3, train_loss_mean:0.924039363861084, test_loss_mean:1.0213431119918823\n",
      "2018-12-28 15:23:14 process:597464, L:3, train_loss_mean:0.9287956953048706, test_loss_mean:1.0148744583129883\n",
      "2018-12-28 15:23:44 process:621188, L:3, train_loss_mean:0.9268363118171692, test_loss_mean:1.0090014934539795\n",
      "2018-12-28 15:24:16 process:647214, L:3, train_loss_mean:0.9376800060272217, test_loss_mean:1.0066810846328735\n",
      "2018-12-28 15:24:26 process:1618, L:3, train_loss_mean:0.9354091882705688, test_loss_mean:1.0078502893447876\n",
      "2018-12-28 15:24:46 process:14634, L:3, train_loss_mean:0.9395212531089783, test_loss_mean:1.0028197765350342\n",
      "2018-12-28 15:27:31 process:128668, L:3, train_loss_mean:0.9404869675636292, test_loss_mean:1.0109764337539673\n",
      "2018-12-28 15:27:50 process:142884, L:3, train_loss_mean:0.9438731670379639, test_loss_mean:1.01228928565979\n",
      "2018-12-28 15:28:32 process:173518, L:3, train_loss_mean:0.9337572455406189, test_loss_mean:1.009681224822998\n",
      "2018-12-28 15:28:51 process:188134, L:3, train_loss_mean:0.9288662672042847, test_loss_mean:1.0166934728622437\n",
      "2018-12-28 15:31:35 process:315568, L:3, train_loss_mean:0.9343310594558716, test_loss_mean:1.0157462358474731\n",
      "2018-12-28 15:31:54 process:331384, L:3, train_loss_mean:0.9321433901786804, test_loss_mean:1.0174071788787842\n",
      "2018-12-28 15:32:36 process:365418, L:3, train_loss_mean:0.939954936504364, test_loss_mean:1.0164551734924316\n",
      "2018-12-28 15:32:55 process:381634, L:3, train_loss_mean:0.9436250925064087, test_loss_mean:1.0148344039916992\n",
      "2018-12-28 15:35:38 process:522468, L:3, train_loss_mean:0.9420123100280762, test_loss_mean:1.0139490365982056\n",
      "2018-12-28 15:35:58 process:539884, L:3, train_loss_mean:0.9429424405097961, test_loss_mean:1.0108814239501953\n",
      "2018-12-28 15:36:40 process:577318, L:3, train_loss_mean:0.9430885910987854, test_loss_mean:1.0082557201385498\n",
      "2018-12-28 15:36:59 process:595134, L:3, train_loss_mean:0.9313621520996094, test_loss_mean:1.0082652568817139\n",
      "2018-12-28 15:39:42 process:749368, L:3, train_loss_mean:0.9214659929275513, test_loss_mean:0.9861831665039062\n",
      "2018-12-28 15:40:02 process:768384, L:3, train_loss_mean:0.9179961681365967, test_loss_mean:0.9893772006034851\n",
      "2018-12-28 15:40:43 process:809218, L:3, train_loss_mean:0.9130927324295044, test_loss_mean:0.9917304515838623\n",
      "2018-12-28 15:40:53 process:2022, L:3, train_loss_mean:0.916073203086853, test_loss_mean:0.9944376945495605\n",
      "2018-12-28 15:41:03 process:10130, L:3, train_loss_mean:0.9169549345970154, test_loss_mean:0.9967131614685059\n",
      "2018-12-28 15:43:56 process:159372, L:3, train_loss_mean:0.9236006736755371, test_loss_mean:1.0204825401306152\n",
      "2018-12-28 15:44:06 process:168080, L:3, train_loss_mean:0.9257006049156189, test_loss_mean:1.0200302600860596\n",
      "2018-12-28 15:44:57 process:214322, L:3, train_loss_mean:0.924888014793396, test_loss_mean:1.024188756942749\n",
      "2018-12-28 15:45:07 process:223230, L:3, train_loss_mean:0.9278126358985901, test_loss_mean:1.0184123516082764\n",
      "2018-12-28 15:48:23 process:386672, L:3, train_loss_mean:0.9104872941970825, test_loss_mean:0.9982070326805115\n",
      "2018-12-28 15:48:34 process:396180, L:3, train_loss_mean:0.9097543954849243, test_loss_mean:0.9980555772781372\n",
      "2018-12-28 15:49:35 process:446622, L:3, train_loss_mean:0.9123547077178955, test_loss_mean:0.9932108521461487\n",
      "2018-12-28 15:49:45 process:456330, L:3, train_loss_mean:0.9115409255027771, test_loss_mean:0.9960240125656128\n",
      "2018-12-28 15:53:09 process:633972, L:3, train_loss_mean:0.9084863066673279, test_loss_mean:0.9930202960968018\n",
      "2018-12-28 15:53:20 process:644280, L:3, train_loss_mean:0.9122862219810486, test_loss_mean:0.9934515357017517\n",
      "2018-12-28 15:54:17 process:698922, L:3, train_loss_mean:0.9159747362136841, test_loss_mean:0.9928613901138306\n",
      "2018-12-28 15:54:29 process:709430, L:3, train_loss_mean:0.915128767490387, test_loss_mean:0.9883056879043579\n",
      "2018-12-28 15:57:52 process:901272, L:3, train_loss_mean:0.9191209673881531, test_loss_mean:0.9966821074485779\n",
      "2018-12-28 15:58:04 process:912380, L:3, train_loss_mean:0.9163902997970581, test_loss_mean:0.9954946041107178\n",
      "2018-12-28 15:59:00 process:971222, L:3, train_loss_mean:0.9145069718360901, test_loss_mean:0.9943601489067078\n",
      "2018-12-28 15:59:10 process:2426, L:3, train_loss_mean:0.9146955013275146, test_loss_mean:0.9960762858390808\n",
      "2018-12-28 15:59:49 process:39056, L:3, train_loss_mean:0.9082478880882263, test_loss_mean:0.9870520234107971\n",
      "2018-12-28 16:00:02 process:51366, L:3, train_loss_mean:0.910002589225769, test_loss_mean:0.9871907830238342\n",
      "2018-12-28 16:00:39 process:88596, L:3, train_loss_mean:0.9075557589530945, test_loss_mean:0.9903238415718079\n",
      "2018-12-28 16:00:51 process:101106, L:3, train_loss_mean:0.9102861881256104, test_loss_mean:0.9894647002220154\n",
      "2018-12-28 16:01:29 process:138936, L:3, train_loss_mean:0.9216288924217224, test_loss_mean:0.9892669916152954\n",
      "2018-12-28 16:01:41 process:151646, L:3, train_loss_mean:0.9206626415252686, test_loss_mean:0.9838910698890686\n",
      "2018-12-28 16:02:18 process:190076, L:3, train_loss_mean:0.923381507396698, test_loss_mean:0.9781068563461304\n",
      "2018-12-28 16:02:31 process:202986, L:3, train_loss_mean:0.9255591630935669, test_loss_mean:0.9755018353462219\n",
      "2018-12-28 16:03:08 process:242016, L:3, train_loss_mean:0.9285152554512024, test_loss_mean:0.9800472855567932\n",
      "2018-12-28 16:03:20 process:255126, L:3, train_loss_mean:0.9284288883209229, test_loss_mean:0.981203556060791\n",
      "2018-12-28 16:03:58 process:294756, L:3, train_loss_mean:0.9287682175636292, test_loss_mean:0.9753733277320862\n",
      "2018-12-28 16:04:10 process:308066, L:3, train_loss_mean:0.9283368587493896, test_loss_mean:0.9742463827133179\n",
      "2018-12-28 16:04:47 process:348296, L:3, train_loss_mean:0.9293407201766968, test_loss_mean:0.9816250801086426\n",
      "2018-12-28 16:05:00 process:361806, L:3, train_loss_mean:0.9290953278541565, test_loss_mean:0.9801464080810547\n",
      "2018-12-28 16:05:37 process:402636, L:3, train_loss_mean:0.9265537858009338, test_loss_mean:0.9882485270500183\n",
      "2018-12-28 16:05:50 process:416346, L:3, train_loss_mean:0.9263193011283875, test_loss_mean:1.0008450746536255\n",
      "2018-12-28 16:06:27 process:457776, L:3, train_loss_mean:0.928570568561554, test_loss_mean:1.0022273063659668\n",
      "2018-12-28 16:06:39 process:471686, L:3, train_loss_mean:0.9271804690361023, test_loss_mean:1.0083353519439697\n",
      "2018-12-28 16:07:16 process:513716, L:3, train_loss_mean:0.9268506765365601, test_loss_mean:1.0105760097503662\n",
      "2018-12-28 16:07:29 process:527826, L:3, train_loss_mean:0.9224038124084473, test_loss_mean:1.0094358921051025\n",
      "2018-12-28 16:08:06 process:570456, L:3, train_loss_mean:0.9289220571517944, test_loss_mean:1.0194144248962402\n",
      "2018-12-28 16:08:18 process:584766, L:3, train_loss_mean:0.92754065990448, test_loss_mean:1.0192734003067017\n",
      "2018-12-28 16:08:56 process:627996, L:3, train_loss_mean:0.9277599453926086, test_loss_mean:1.0105783939361572\n"
     ]
    },
    {
     "name": "stdout",
     "output_type": "stream",
     "text": [
      "2018-12-28 16:09:08 process:642506, L:3, train_loss_mean:0.9213051795959473, test_loss_mean:1.0134010314941406\n",
      "2018-12-28 16:09:45 process:686336, L:3, train_loss_mean:0.9183907508850098, test_loss_mean:1.0128649473190308\n",
      "2018-12-28 16:09:58 process:701046, L:3, train_loss_mean:0.9204584360122681, test_loss_mean:1.0058021545410156\n",
      "2018-12-28 16:10:34 process:745476, L:3, train_loss_mean:0.9144437909126282, test_loss_mean:1.0090746879577637\n",
      "2018-12-28 16:10:47 process:760386, L:3, train_loss_mean:0.9117098450660706, test_loss_mean:1.0063854455947876\n",
      "2018-12-28 16:11:23 process:805416, L:3, train_loss_mean:0.9075407385826111, test_loss_mean:0.9977860450744629\n",
      "2018-12-28 16:11:35 process:820526, L:3, train_loss_mean:0.909833550453186, test_loss_mean:0.9994345903396606\n",
      "2018-12-28 16:12:12 process:866156, L:3, train_loss_mean:0.9035927653312683, test_loss_mean:0.9977101683616638\n",
      "2018-12-28 16:12:24 process:881466, L:3, train_loss_mean:0.9078385829925537, test_loss_mean:1.0005712509155273\n",
      "2018-12-28 16:13:01 process:927696, L:3, train_loss_mean:0.9094042181968689, test_loss_mean:1.0026925802230835\n",
      "2018-12-28 16:13:13 process:943206, L:3, train_loss_mean:0.9148849248886108, test_loss_mean:1.0010991096496582\n",
      "2018-12-28 16:13:50 process:990036, L:3, train_loss_mean:0.9086522459983826, test_loss_mean:0.9997517466545105\n",
      "2018-12-28 16:14:02 process:1005746, L:3, train_loss_mean:0.9041761159896851, test_loss_mean:0.9983155131340027\n",
      "2018-12-28 16:14:39 process:1053176, L:3, train_loss_mean:0.9137403964996338, test_loss_mean:0.9939870238304138\n",
      "2018-12-28 16:14:51 process:1069086, L:3, train_loss_mean:0.9164687991142273, test_loss_mean:0.9943774938583374\n",
      "2018-12-28 16:15:27 process:1117116, L:3, train_loss_mean:0.9160038828849792, test_loss_mean:0.9993318319320679\n",
      "2018-12-28 16:15:40 process:1133226, L:3, train_loss_mean:0.9181510210037231, test_loss_mean:0.9990885257720947\n",
      "2018-12-28 16:15:49 process:2830, L:3, train_loss_mean:0.9185565114021301, test_loss_mean:0.9968422651290894\n",
      "2018-12-28 16:18:43 process:208872, L:3, train_loss_mean:0.8945133686065674, test_loss_mean:0.9817668199539185\n",
      "2018-12-28 16:18:52 process:220780, L:3, train_loss_mean:0.8916339874267578, test_loss_mean:0.981367290019989\n",
      "2018-12-28 16:19:44 process:283822, L:3, train_loss_mean:0.8843509554862976, test_loss_mean:0.9869703650474548\n",
      "2018-12-28 16:19:53 process:295930, L:3, train_loss_mean:0.8836862444877625, test_loss_mean:0.9858819842338562\n",
      "2018-12-28 16:22:47 process:516172, L:3, train_loss_mean:0.8882721066474915, test_loss_mean:1.0166033506393433\n",
      "2018-12-28 16:22:57 process:528880, L:3, train_loss_mean:0.8860151171684265, test_loss_mean:1.0138171911239624\n",
      "2018-12-28 16:23:49 process:596122, L:3, train_loss_mean:0.8993301391601562, test_loss_mean:1.013817548751831\n",
      "2018-12-28 16:23:59 process:609030, L:3, train_loss_mean:0.9015491604804993, test_loss_mean:1.0200742483139038\n",
      "2018-12-28 16:26:52 process:843472, L:3, train_loss_mean:0.9220763444900513, test_loss_mean:0.9994739294052124\n",
      "2018-12-28 16:27:02 process:856980, L:3, train_loss_mean:0.9232056140899658, test_loss_mean:1.0005829334259033\n",
      "2018-12-28 16:27:53 process:928422, L:3, train_loss_mean:0.9254751801490784, test_loss_mean:0.9856109023094177\n",
      "2018-12-28 16:28:03 process:942130, L:3, train_loss_mean:0.9207481145858765, test_loss_mean:0.9821396470069885\n",
      "2018-12-28 19:31:01 process:1190772, L:3, train_loss_mean:0.9015544652938843, test_loss_mean:0.991068959236145\n",
      "2018-12-29 08:24:10 process:1205080, L:3, train_loss_mean:0.90411376953125, test_loss_mean:0.9935228824615479\n"
     ]
    },
    {
     "ename": "KeyboardInterrupt",
     "evalue": "",
     "output_type": "error",
     "traceback": [
      "\u001b[1;31m---------------------------------------------------------------------------\u001b[0m",
      "\u001b[1;31mKeyboardInterrupt\u001b[0m                         Traceback (most recent call last)",
      "\u001b[1;32m<ipython-input-49-7f7bb1f46a1f>\u001b[0m in \u001b[0;36m<module>\u001b[1;34m\u001b[0m\n\u001b[0;32m      9\u001b[0m             \u001b[0mx\u001b[0m\u001b[1;33m,\u001b[0m \u001b[0my\u001b[0m \u001b[1;33m=\u001b[0m \u001b[0mget_batches\u001b[0m\u001b[1;33m(\u001b[0m\u001b[0mtrain\u001b[0m\u001b[1;33m,\u001b[0m \u001b[0mtrain\u001b[0m\u001b[1;33m[\u001b[0m\u001b[1;34m'rating'\u001b[0m\u001b[1;33m]\u001b[0m\u001b[1;33m.\u001b[0m\u001b[0mvalues\u001b[0m\u001b[1;33m.\u001b[0m\u001b[0mreshape\u001b[0m\u001b[1;33m(\u001b[0m\u001b[1;33m[\u001b[0m\u001b[1;33m-\u001b[0m\u001b[1;36m1\u001b[0m\u001b[1;33m,\u001b[0m\u001b[1;36m1\u001b[0m\u001b[1;33m]\u001b[0m\u001b[1;33m)\u001b[0m\u001b[1;33m)\u001b[0m\u001b[1;33m\u001b[0m\u001b[0m\n\u001b[0;32m     10\u001b[0m             \u001b[0mitem_embed_data\u001b[0m \u001b[1;33m=\u001b[0m \u001b[0mget_item_embedding\u001b[0m\u001b[1;33m(\u001b[0m\u001b[0mx\u001b[0m\u001b[1;33m[\u001b[0m\u001b[1;34m'movieId'\u001b[0m\u001b[1;33m]\u001b[0m\u001b[1;33m,\u001b[0m \u001b[0mmovie_data\u001b[0m\u001b[1;33m)\u001b[0m\u001b[1;33m\u001b[0m\u001b[0m\n\u001b[1;32m---> 11\u001b[1;33m             \u001b[0muser_embed_data\u001b[0m\u001b[1;33m,\u001b[0m \u001b[0mtag_embed_data\u001b[0m \u001b[1;33m=\u001b[0m \u001b[0mget_user_embeding\u001b[0m\u001b[1;33m(\u001b[0m\u001b[0mx\u001b[0m\u001b[1;33m[\u001b[0m\u001b[1;34m'userId'\u001b[0m\u001b[1;33m]\u001b[0m\u001b[1;33m,\u001b[0m\u001b[0mL\u001b[0m\u001b[1;33m,\u001b[0m \u001b[0mtrain_data\u001b[0m\u001b[1;33m,\u001b[0m \u001b[0mmovie_df\u001b[0m\u001b[1;33m,\u001b[0m \u001b[0mtag_embedding_dict\u001b[0m\u001b[1;33m)\u001b[0m\u001b[1;33m\u001b[0m\u001b[0m\n\u001b[0m\u001b[0;32m     12\u001b[0m             feed_dict = {item_embed_layer:item_embed_data, user_embed_layer:user_embed_data, \\\n\u001b[0;32m     13\u001b[0m                          targets:np.array(y), lr:learning_rate, tag_embed_layer:tag_embed_data}\n",
      "\u001b[1;32m<ipython-input-32-ae7f8a2b2f7a>\u001b[0m in \u001b[0;36mget_user_embeding\u001b[1;34m(user_ids, L, train_data, movie_df, tag_embedding_dict)\u001b[0m\n\u001b[0;32m      8\u001b[0m         \u001b[1;32mfor\u001b[0m \u001b[0muid\u001b[0m \u001b[1;32min\u001b[0m \u001b[0muser_ids\u001b[0m\u001b[1;33m:\u001b[0m\u001b[1;33m\u001b[0m\u001b[0m\n\u001b[0;32m      9\u001b[0m             \u001b[0muser_movie_tag\u001b[0m  \u001b[1;33m=\u001b[0m \u001b[1;33m[\u001b[0m\u001b[1;33m]\u001b[0m\u001b[1;33m\u001b[0m\u001b[0m\n\u001b[1;32m---> 10\u001b[1;33m             \u001b[0mitemids\u001b[0m\u001b[1;33m,\u001b[0m \u001b[0mtagids\u001b[0m \u001b[1;33m=\u001b[0m \u001b[0mget_itemid_and_tagid\u001b[0m\u001b[1;33m(\u001b[0m\u001b[0muid\u001b[0m\u001b[1;33m,\u001b[0m \u001b[0mtrain_data\u001b[0m\u001b[1;33m)\u001b[0m\u001b[1;33m\u001b[0m\u001b[0m\n\u001b[0m\u001b[0;32m     11\u001b[0m             \u001b[1;32mif\u001b[0m \u001b[0mi\u001b[0m\u001b[1;33m+\u001b[0m\u001b[1;36m1\u001b[0m \u001b[1;33m>\u001b[0m \u001b[0mlen\u001b[0m\u001b[1;33m(\u001b[0m\u001b[0mitemids\u001b[0m\u001b[1;33m)\u001b[0m\u001b[1;33m:\u001b[0m\u001b[1;33m\u001b[0m\u001b[0m\n\u001b[0;32m     12\u001b[0m                 \u001b[0muser_embed\u001b[0m\u001b[1;33m.\u001b[0m\u001b[0mappend\u001b[0m\u001b[1;33m(\u001b[0m\u001b[0mnp\u001b[0m\u001b[1;33m.\u001b[0m\u001b[0mzeros\u001b[0m\u001b[1;33m(\u001b[0m\u001b[0membed_size\u001b[0m\u001b[1;33m)\u001b[0m\u001b[1;33m)\u001b[0m\u001b[1;33m\u001b[0m\u001b[0m\n",
      "\u001b[1;32m<ipython-input-27-c2ef9fac94fd>\u001b[0m in \u001b[0;36mget_itemid_and_tagid\u001b[1;34m(uid, train_data)\u001b[0m\n\u001b[0;32m      1\u001b[0m \u001b[1;32mdef\u001b[0m \u001b[0mget_itemid_and_tagid\u001b[0m\u001b[1;33m(\u001b[0m\u001b[0muid\u001b[0m\u001b[1;33m,\u001b[0m \u001b[0mtrain_data\u001b[0m\u001b[1;33m)\u001b[0m\u001b[1;33m:\u001b[0m\u001b[1;33m\u001b[0m\u001b[0m\n\u001b[1;32m----> 2\u001b[1;33m     \u001b[0muid_df\u001b[0m \u001b[1;33m=\u001b[0m \u001b[0mtrain_data\u001b[0m\u001b[1;33m[\u001b[0m\u001b[0mtrain_data\u001b[0m\u001b[1;33m.\u001b[0m\u001b[0muserId\u001b[0m\u001b[1;33m==\u001b[0m\u001b[0muid\u001b[0m\u001b[1;33m]\u001b[0m\u001b[1;33m.\u001b[0m\u001b[0msort_values\u001b[0m\u001b[1;33m(\u001b[0m\u001b[1;34m'timestamp'\u001b[0m\u001b[1;33m)\u001b[0m\u001b[1;33m\u001b[0m\u001b[0m\n\u001b[0m\u001b[0;32m      3\u001b[0m     \u001b[0mitemids\u001b[0m \u001b[1;33m=\u001b[0m \u001b[0muid_df\u001b[0m\u001b[1;33m.\u001b[0m\u001b[0mmovieId\u001b[0m\u001b[1;33m.\u001b[0m\u001b[0mvalues\u001b[0m\u001b[1;33m\u001b[0m\u001b[0m\n\u001b[0;32m      4\u001b[0m     \u001b[0mtagids\u001b[0m \u001b[1;33m=\u001b[0m \u001b[0muid_df\u001b[0m\u001b[1;33m.\u001b[0m\u001b[0mtag_id\u001b[0m\u001b[1;33m.\u001b[0m\u001b[0mvalues\u001b[0m\u001b[1;33m\u001b[0m\u001b[0m\n\u001b[0;32m      5\u001b[0m     \u001b[1;32mreturn\u001b[0m \u001b[0mitemids\u001b[0m\u001b[1;33m,\u001b[0m \u001b[0mtagids\u001b[0m\u001b[1;33m\u001b[0m\u001b[0m\n",
      "\u001b[1;32mc:\\users\\yxr\\anaconda3\\lib\\site-packages\\pandas\\core\\ops.py\u001b[0m in \u001b[0;36mwrapper\u001b[1;34m(self, other, axis)\u001b[0m\n\u001b[0;32m    853\u001b[0m \u001b[1;33m\u001b[0m\u001b[0m\n\u001b[0;32m    854\u001b[0m             \u001b[1;32mwith\u001b[0m \u001b[0mnp\u001b[0m\u001b[1;33m.\u001b[0m\u001b[0merrstate\u001b[0m\u001b[1;33m(\u001b[0m\u001b[0mall\u001b[0m\u001b[1;33m=\u001b[0m\u001b[1;34m'ignore'\u001b[0m\u001b[1;33m)\u001b[0m\u001b[1;33m:\u001b[0m\u001b[1;33m\u001b[0m\u001b[0m\n\u001b[1;32m--> 855\u001b[1;33m                 \u001b[0mres\u001b[0m \u001b[1;33m=\u001b[0m \u001b[0mna_op\u001b[0m\u001b[1;33m(\u001b[0m\u001b[0mvalues\u001b[0m\u001b[1;33m,\u001b[0m \u001b[0mother\u001b[0m\u001b[1;33m)\u001b[0m\u001b[1;33m\u001b[0m\u001b[0m\n\u001b[0m\u001b[0;32m    856\u001b[0m             \u001b[1;32mif\u001b[0m \u001b[0misscalar\u001b[0m\u001b[1;33m(\u001b[0m\u001b[0mres\u001b[0m\u001b[1;33m)\u001b[0m\u001b[1;33m:\u001b[0m\u001b[1;33m\u001b[0m\u001b[0m\n\u001b[0;32m    857\u001b[0m                 raise TypeError('Could not compare %s type with Series' %\n",
      "\u001b[1;32mc:\\users\\yxr\\anaconda3\\lib\\site-packages\\pandas\\core\\ops.py\u001b[0m in \u001b[0;36mna_op\u001b[1;34m(x, y)\u001b[0m\n\u001b[0;32m    790\u001b[0m             \u001b[1;32mtry\u001b[0m\u001b[1;33m:\u001b[0m\u001b[1;33m\u001b[0m\u001b[0m\n\u001b[0;32m    791\u001b[0m                 \u001b[1;32mwith\u001b[0m \u001b[0mnp\u001b[0m\u001b[1;33m.\u001b[0m\u001b[0merrstate\u001b[0m\u001b[1;33m(\u001b[0m\u001b[0mall\u001b[0m\u001b[1;33m=\u001b[0m\u001b[1;34m'ignore'\u001b[0m\u001b[1;33m)\u001b[0m\u001b[1;33m:\u001b[0m\u001b[1;33m\u001b[0m\u001b[0m\n\u001b[1;32m--> 792\u001b[1;33m                     \u001b[0mresult\u001b[0m \u001b[1;33m=\u001b[0m \u001b[0mgetattr\u001b[0m\u001b[1;33m(\u001b[0m\u001b[0mx\u001b[0m\u001b[1;33m,\u001b[0m \u001b[0mname\u001b[0m\u001b[1;33m)\u001b[0m\u001b[1;33m(\u001b[0m\u001b[0my\u001b[0m\u001b[1;33m)\u001b[0m\u001b[1;33m\u001b[0m\u001b[0m\n\u001b[0m\u001b[0;32m    793\u001b[0m                 \u001b[1;32mif\u001b[0m \u001b[0mresult\u001b[0m \u001b[1;32mis\u001b[0m \u001b[0mNotImplemented\u001b[0m\u001b[1;33m:\u001b[0m\u001b[1;33m\u001b[0m\u001b[0m\n\u001b[0;32m    794\u001b[0m                     \u001b[1;32mraise\u001b[0m \u001b[0mTypeError\u001b[0m\u001b[1;33m(\u001b[0m\u001b[1;34m\"invalid type comparison\"\u001b[0m\u001b[1;33m)\u001b[0m\u001b[1;33m\u001b[0m\u001b[0m\n",
      "\u001b[1;31mKeyboardInterrupt\u001b[0m: "
     ]
    }
   ],
   "source": [
    "losss= {'train':[], 'test': []}\n",
    "f = open('loss_attentionbase.log', 'a')\n",
    "print('num_steps:{}, learning_rate:{}, batch_size:{}, embed_size:{}'.format( \\\n",
    "                                num_steps, learning_rate, batch_size, embed_size), file=f)\n",
    "with tf.Session(graph=graph) as sess:\n",
    "    tf.global_variables_initializer().run()\n",
    "    for step in range(num_steps):\n",
    "        for batch_i in range(len(train)//batch_size):\n",
    "            x, y = get_batches(train, train['rating'].values.reshape([-1,1]))\n",
    "            item_embed_data = get_item_embedding(x['movieId'], movie_data)\n",
    "            user_embed_data, tag_embed_data = get_user_embeding(x['userId'],L, train_data, movie_df, tag_embedding_dict)\n",
    "            feed_dict = {item_embed_layer:item_embed_data, user_embed_layer:user_embed_data, \\\n",
    "                         targets:np.array(y), lr:learning_rate, tag_embed_layer:tag_embed_data}\n",
    "            \n",
    "            step, train_loss, _ = sess.run([global_step, loss, train_op], feed_dict=feed_dict)\n",
    "            losss['train'].append(train_loss)\n",
    "            x, y = get_batches(test, test['rating'].values.reshape([-1,1]))\n",
    "            item_embed_data = get_item_embedding(x['movieId'], movie_data)\n",
    "            user_embed_data, tag_embed_data = get_user_embeding(x['userId'], L, train_data, movie_df, tag_embedding_dict)\n",
    "#             print(user_embed_data)\n",
    "            feed_dict = {item_embed_layer:item_embed_data, user_embed_layer:user_embed_data, \\\n",
    "                         targets:np.array(y), lr:learning_rate, tag_embed_layer:tag_embed_data}\n",
    "            \n",
    "            step, test_loss= sess.run([global_step, loss], feed_dict=feed_dict)\n",
    "            losss['test'].append(test_loss)\n",
    "\n",
    "            if (step*batch_i) % show_evey_batches == 0:\n",
    "                print_log('process:{}, L:{}, train_loss_mean:{}, test_loss_mean:{}'.format((step+1)*(batch_i+1), L, \\\n",
    "                                                                    np.mean(losss['train'][-show_evey_batches:]), \\\n",
    "                                                                np.mean(losss['test'][-show_evey_batches:])), f)\n",
    "            "
   ]
  },
  {
   "cell_type": "code",
   "execution_count": 80,
   "metadata": {},
   "outputs": [
    {
     "name": "stdout",
     "output_type": "stream",
     "text": [
      "2018-12-28 09:45:14 process:attentionBased, L:5, num_steps:2, learning_rate:0.001, batch_size:256, embed_size:100, result:1.0462861061096191\n"
     ]
    }
   ],
   "source": [
    "f = open('result.log', 'a')\n",
    "print_fmt = 'process:{}, L:{}, num_steps:{}, learning_rate:{}, batch_size:{}, embed_size:{}, result:{}'.format( \\\n",
    "                                'attentionBased', L, num_steps, learning_rate, batch_size, embed_size, np.mean(losss['test'][-100:]))\n",
    "print_log(print_fmt, f)"
   ]
  },
  {
   "cell_type": "code",
   "execution_count": null,
   "metadata": {},
   "outputs": [],
   "source": [
    "%matplotlib  "
   ]
  },
  {
   "cell_type": "code",
   "execution_count": 81,
   "metadata": {},
   "outputs": [
    {
     "data": {
      "text/plain": [
       "[<matplotlib.lines.Line2D at 0x161b0072208>]"
      ]
     },
     "execution_count": 81,
     "metadata": {},
     "output_type": "execute_result"
    },
    {
     "data": {
      "image/png": "[encoded data removed]",
      "text/plain": [
       "<matplotlib.figure.Figure at 0x161ceba0be0>"
      ]
     },
     "metadata": {
      "needs_background": "light"
     },
     "output_type": "display_data"
    }
   ],
   "source": [
    "plt.title('L=3')\n",
    "plt.xlabel('step')\n",
    "plt.ylabel('train_loss')\n",
    "plt.plot(losss['train'])"
   ]
  },
  {
   "cell_type": "code",
   "execution_count": 82,
   "metadata": {},
   "outputs": [
    {
     "data": {
      "text/plain": [
       "[<matplotlib.lines.Line2D at 0x161afeee208>]"
      ]
     },
     "execution_count": 82,
     "metadata": {},
     "output_type": "execute_result"
    },
    {
     "data": {
      "image/png": "[encoded data removed]",
      "text/plain": [
       "<matplotlib.figure.Figure at 0x161c6ea9080>"
      ]
     },
     "metadata": {
      "needs_background": "light"
     },
     "output_type": "display_data"
    }
   ],
   "source": [
    "plt.figure()\n",
    "plt.title('L=3')\n",
    "plt.xlabel('step')\n",
    "plt.ylabel('test_loss')\n",
    "plt.plot(losss['test'])"
   ]
  },
  {
   "cell_type": "code",
   "execution_count": null,
   "metadata": {},
   "outputs": [],
   "source": []
  }
 ],
 "metadata": {
  "kernelspec": {
   "display_name": "Python 3",
   "language": "python",
   "name": "python3"
  },
  "language_info": {
   "codemirror_mode": {
    "name": "ipython",
    "version": 3
   },
   "file_extension": ".py",
   "mimetype": "text/x-python",
   "name": "python",
   "nbconvert_exporter": "python",
   "pygments_lexer": "ipython3",
   "version": "3.6.6"
  }
 },
 "nbformat": 4,
 "nbformat_minor": 2
}
